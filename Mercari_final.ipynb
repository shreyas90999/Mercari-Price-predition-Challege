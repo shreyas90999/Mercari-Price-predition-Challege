{
  "nbformat": 4,
  "nbformat_minor": 0,
  "metadata": {
    "colab": {
      "name": "Mercari_final.ipynb",
      "provenance": [],
      "collapsed_sections": []
    },
    "kernelspec": {
      "name": "python3",
      "display_name": "Python 3"
    },
    "widgets": {
      "application/vnd.jupyter.widget-state+json": {
        "b2dea910f42c4c9fa153b74f9be465c2": {
          "model_module": "@jupyter-widgets/controls",
          "model_name": "HBoxModel",
          "state": {
            "_view_name": "HBoxView",
            "_dom_classes": [],
            "_model_name": "HBoxModel",
            "_view_module": "@jupyter-widgets/controls",
            "_model_module_version": "1.5.0",
            "_view_count": null,
            "_view_module_version": "1.5.0",
            "box_style": "",
            "layout": "IPY_MODEL_6dcd003e007646eaa758e95485319f81",
            "_model_module": "@jupyter-widgets/controls",
            "children": [
              "IPY_MODEL_b2c90b8ebcb04482a1c96f3bdbbb130d",
              "IPY_MODEL_63ab321c47ad4c75bc397cc7e00bbe9e"
            ]
          }
        },
        "6dcd003e007646eaa758e95485319f81": {
          "model_module": "@jupyter-widgets/base",
          "model_name": "LayoutModel",
          "state": {
            "_view_name": "LayoutView",
            "grid_template_rows": null,
            "right": null,
            "justify_content": null,
            "_view_module": "@jupyter-widgets/base",
            "overflow": null,
            "_model_module_version": "1.2.0",
            "_view_count": null,
            "flex_flow": null,
            "width": null,
            "min_width": null,
            "border": null,
            "align_items": null,
            "bottom": null,
            "_model_module": "@jupyter-widgets/base",
            "top": null,
            "grid_column": null,
            "overflow_y": null,
            "overflow_x": null,
            "grid_auto_flow": null,
            "grid_area": null,
            "grid_template_columns": null,
            "flex": null,
            "_model_name": "LayoutModel",
            "justify_items": null,
            "grid_row": null,
            "max_height": null,
            "align_content": null,
            "visibility": null,
            "align_self": null,
            "height": null,
            "min_height": null,
            "padding": null,
            "grid_auto_rows": null,
            "grid_gap": null,
            "max_width": null,
            "order": null,
            "_view_module_version": "1.2.0",
            "grid_template_areas": null,
            "object_position": null,
            "object_fit": null,
            "grid_auto_columns": null,
            "margin": null,
            "display": null,
            "left": null
          }
        },
        "b2c90b8ebcb04482a1c96f3bdbbb130d": {
          "model_module": "@jupyter-widgets/controls",
          "model_name": "FloatProgressModel",
          "state": {
            "_view_name": "ProgressView",
            "style": "IPY_MODEL_e53dd25a69ff461598c1a6c050973bc5",
            "_dom_classes": [],
            "description": "Pandas Apply: 100%",
            "_model_name": "FloatProgressModel",
            "bar_style": "success",
            "max": 1111243,
            "_view_module": "@jupyter-widgets/controls",
            "_model_module_version": "1.5.0",
            "value": 1111243,
            "_view_count": null,
            "_view_module_version": "1.5.0",
            "orientation": "horizontal",
            "min": 0,
            "description_tooltip": null,
            "_model_module": "@jupyter-widgets/controls",
            "layout": "IPY_MODEL_5f419de7ea554086a96ab7dd88d24c46"
          }
        },
        "63ab321c47ad4c75bc397cc7e00bbe9e": {
          "model_module": "@jupyter-widgets/controls",
          "model_name": "HTMLModel",
          "state": {
            "_view_name": "HTMLView",
            "style": "IPY_MODEL_7f7949a8c81f41a4b11d85b63555cbf0",
            "_dom_classes": [],
            "description": "",
            "_model_name": "HTMLModel",
            "placeholder": "​",
            "_view_module": "@jupyter-widgets/controls",
            "_model_module_version": "1.5.0",
            "value": " 1111243/1111243 [01:21&lt;00:00, 13709.16it/s]",
            "_view_count": null,
            "_view_module_version": "1.5.0",
            "description_tooltip": null,
            "_model_module": "@jupyter-widgets/controls",
            "layout": "IPY_MODEL_b4e34a94896946f6a7e730740270bb25"
          }
        },
        "e53dd25a69ff461598c1a6c050973bc5": {
          "model_module": "@jupyter-widgets/controls",
          "model_name": "ProgressStyleModel",
          "state": {
            "_view_name": "StyleView",
            "_model_name": "ProgressStyleModel",
            "description_width": "initial",
            "_view_module": "@jupyter-widgets/base",
            "_model_module_version": "1.5.0",
            "_view_count": null,
            "_view_module_version": "1.2.0",
            "bar_color": null,
            "_model_module": "@jupyter-widgets/controls"
          }
        },
        "5f419de7ea554086a96ab7dd88d24c46": {
          "model_module": "@jupyter-widgets/base",
          "model_name": "LayoutModel",
          "state": {
            "_view_name": "LayoutView",
            "grid_template_rows": null,
            "right": null,
            "justify_content": null,
            "_view_module": "@jupyter-widgets/base",
            "overflow": null,
            "_model_module_version": "1.2.0",
            "_view_count": null,
            "flex_flow": null,
            "width": null,
            "min_width": null,
            "border": null,
            "align_items": null,
            "bottom": null,
            "_model_module": "@jupyter-widgets/base",
            "top": null,
            "grid_column": null,
            "overflow_y": null,
            "overflow_x": null,
            "grid_auto_flow": null,
            "grid_area": null,
            "grid_template_columns": null,
            "flex": null,
            "_model_name": "LayoutModel",
            "justify_items": null,
            "grid_row": null,
            "max_height": null,
            "align_content": null,
            "visibility": null,
            "align_self": null,
            "height": null,
            "min_height": null,
            "padding": null,
            "grid_auto_rows": null,
            "grid_gap": null,
            "max_width": null,
            "order": null,
            "_view_module_version": "1.2.0",
            "grid_template_areas": null,
            "object_position": null,
            "object_fit": null,
            "grid_auto_columns": null,
            "margin": null,
            "display": null,
            "left": null
          }
        },
        "7f7949a8c81f41a4b11d85b63555cbf0": {
          "model_module": "@jupyter-widgets/controls",
          "model_name": "DescriptionStyleModel",
          "state": {
            "_view_name": "StyleView",
            "_model_name": "DescriptionStyleModel",
            "description_width": "",
            "_view_module": "@jupyter-widgets/base",
            "_model_module_version": "1.5.0",
            "_view_count": null,
            "_view_module_version": "1.2.0",
            "_model_module": "@jupyter-widgets/controls"
          }
        },
        "b4e34a94896946f6a7e730740270bb25": {
          "model_module": "@jupyter-widgets/base",
          "model_name": "LayoutModel",
          "state": {
            "_view_name": "LayoutView",
            "grid_template_rows": null,
            "right": null,
            "justify_content": null,
            "_view_module": "@jupyter-widgets/base",
            "overflow": null,
            "_model_module_version": "1.2.0",
            "_view_count": null,
            "flex_flow": null,
            "width": null,
            "min_width": null,
            "border": null,
            "align_items": null,
            "bottom": null,
            "_model_module": "@jupyter-widgets/base",
            "top": null,
            "grid_column": null,
            "overflow_y": null,
            "overflow_x": null,
            "grid_auto_flow": null,
            "grid_area": null,
            "grid_template_columns": null,
            "flex": null,
            "_model_name": "LayoutModel",
            "justify_items": null,
            "grid_row": null,
            "max_height": null,
            "align_content": null,
            "visibility": null,
            "align_self": null,
            "height": null,
            "min_height": null,
            "padding": null,
            "grid_auto_rows": null,
            "grid_gap": null,
            "max_width": null,
            "order": null,
            "_view_module_version": "1.2.0",
            "grid_template_areas": null,
            "object_position": null,
            "object_fit": null,
            "grid_auto_columns": null,
            "margin": null,
            "display": null,
            "left": null
          }
        },
        "f65629f51fc945bc970d17e73cb44652": {
          "model_module": "@jupyter-widgets/controls",
          "model_name": "HBoxModel",
          "state": {
            "_view_name": "HBoxView",
            "_dom_classes": [],
            "_model_name": "HBoxModel",
            "_view_module": "@jupyter-widgets/controls",
            "_model_module_version": "1.5.0",
            "_view_count": null,
            "_view_module_version": "1.5.0",
            "box_style": "",
            "layout": "IPY_MODEL_8a841aaa6aea4439a6961ba54c91361c",
            "_model_module": "@jupyter-widgets/controls",
            "children": [
              "IPY_MODEL_e1bc7af63bb344a788c945c9ab8483e9",
              "IPY_MODEL_3178593c9fe5431fb68607b3a8687aa1"
            ]
          }
        },
        "8a841aaa6aea4439a6961ba54c91361c": {
          "model_module": "@jupyter-widgets/base",
          "model_name": "LayoutModel",
          "state": {
            "_view_name": "LayoutView",
            "grid_template_rows": null,
            "right": null,
            "justify_content": null,
            "_view_module": "@jupyter-widgets/base",
            "overflow": null,
            "_model_module_version": "1.2.0",
            "_view_count": null,
            "flex_flow": null,
            "width": null,
            "min_width": null,
            "border": null,
            "align_items": null,
            "bottom": null,
            "_model_module": "@jupyter-widgets/base",
            "top": null,
            "grid_column": null,
            "overflow_y": null,
            "overflow_x": null,
            "grid_auto_flow": null,
            "grid_area": null,
            "grid_template_columns": null,
            "flex": null,
            "_model_name": "LayoutModel",
            "justify_items": null,
            "grid_row": null,
            "max_height": null,
            "align_content": null,
            "visibility": null,
            "align_self": null,
            "height": null,
            "min_height": null,
            "padding": null,
            "grid_auto_rows": null,
            "grid_gap": null,
            "max_width": null,
            "order": null,
            "_view_module_version": "1.2.0",
            "grid_template_areas": null,
            "object_position": null,
            "object_fit": null,
            "grid_auto_columns": null,
            "margin": null,
            "display": null,
            "left": null
          }
        },
        "e1bc7af63bb344a788c945c9ab8483e9": {
          "model_module": "@jupyter-widgets/controls",
          "model_name": "FloatProgressModel",
          "state": {
            "_view_name": "ProgressView",
            "style": "IPY_MODEL_54e958f4ed80422bb3660982d63ed189",
            "_dom_classes": [],
            "description": "Pandas Apply: 100%",
            "_model_name": "FloatProgressModel",
            "bar_style": "success",
            "max": 370415,
            "_view_module": "@jupyter-widgets/controls",
            "_model_module_version": "1.5.0",
            "value": 370415,
            "_view_count": null,
            "_view_module_version": "1.5.0",
            "orientation": "horizontal",
            "min": 0,
            "description_tooltip": null,
            "_model_module": "@jupyter-widgets/controls",
            "layout": "IPY_MODEL_6736fb6fa7ea4ebc88a6b68548f03eff"
          }
        },
        "3178593c9fe5431fb68607b3a8687aa1": {
          "model_module": "@jupyter-widgets/controls",
          "model_name": "HTMLModel",
          "state": {
            "_view_name": "HTMLView",
            "style": "IPY_MODEL_2d837a1b2b0944e995601a98fcd4c362",
            "_dom_classes": [],
            "description": "",
            "_model_name": "HTMLModel",
            "placeholder": "​",
            "_view_module": "@jupyter-widgets/controls",
            "_model_module_version": "1.5.0",
            "value": " 370415/370415 [00:25&lt;00:00, 14369.99it/s]",
            "_view_count": null,
            "_view_module_version": "1.5.0",
            "description_tooltip": null,
            "_model_module": "@jupyter-widgets/controls",
            "layout": "IPY_MODEL_cd5fce8c81cc4a99a2ecda4212c84445"
          }
        },
        "54e958f4ed80422bb3660982d63ed189": {
          "model_module": "@jupyter-widgets/controls",
          "model_name": "ProgressStyleModel",
          "state": {
            "_view_name": "StyleView",
            "_model_name": "ProgressStyleModel",
            "description_width": "initial",
            "_view_module": "@jupyter-widgets/base",
            "_model_module_version": "1.5.0",
            "_view_count": null,
            "_view_module_version": "1.2.0",
            "bar_color": null,
            "_model_module": "@jupyter-widgets/controls"
          }
        },
        "6736fb6fa7ea4ebc88a6b68548f03eff": {
          "model_module": "@jupyter-widgets/base",
          "model_name": "LayoutModel",
          "state": {
            "_view_name": "LayoutView",
            "grid_template_rows": null,
            "right": null,
            "justify_content": null,
            "_view_module": "@jupyter-widgets/base",
            "overflow": null,
            "_model_module_version": "1.2.0",
            "_view_count": null,
            "flex_flow": null,
            "width": null,
            "min_width": null,
            "border": null,
            "align_items": null,
            "bottom": null,
            "_model_module": "@jupyter-widgets/base",
            "top": null,
            "grid_column": null,
            "overflow_y": null,
            "overflow_x": null,
            "grid_auto_flow": null,
            "grid_area": null,
            "grid_template_columns": null,
            "flex": null,
            "_model_name": "LayoutModel",
            "justify_items": null,
            "grid_row": null,
            "max_height": null,
            "align_content": null,
            "visibility": null,
            "align_self": null,
            "height": null,
            "min_height": null,
            "padding": null,
            "grid_auto_rows": null,
            "grid_gap": null,
            "max_width": null,
            "order": null,
            "_view_module_version": "1.2.0",
            "grid_template_areas": null,
            "object_position": null,
            "object_fit": null,
            "grid_auto_columns": null,
            "margin": null,
            "display": null,
            "left": null
          }
        },
        "2d837a1b2b0944e995601a98fcd4c362": {
          "model_module": "@jupyter-widgets/controls",
          "model_name": "DescriptionStyleModel",
          "state": {
            "_view_name": "StyleView",
            "_model_name": "DescriptionStyleModel",
            "description_width": "",
            "_view_module": "@jupyter-widgets/base",
            "_model_module_version": "1.5.0",
            "_view_count": null,
            "_view_module_version": "1.2.0",
            "_model_module": "@jupyter-widgets/controls"
          }
        },
        "cd5fce8c81cc4a99a2ecda4212c84445": {
          "model_module": "@jupyter-widgets/base",
          "model_name": "LayoutModel",
          "state": {
            "_view_name": "LayoutView",
            "grid_template_rows": null,
            "right": null,
            "justify_content": null,
            "_view_module": "@jupyter-widgets/base",
            "overflow": null,
            "_model_module_version": "1.2.0",
            "_view_count": null,
            "flex_flow": null,
            "width": null,
            "min_width": null,
            "border": null,
            "align_items": null,
            "bottom": null,
            "_model_module": "@jupyter-widgets/base",
            "top": null,
            "grid_column": null,
            "overflow_y": null,
            "overflow_x": null,
            "grid_auto_flow": null,
            "grid_area": null,
            "grid_template_columns": null,
            "flex": null,
            "_model_name": "LayoutModel",
            "justify_items": null,
            "grid_row": null,
            "max_height": null,
            "align_content": null,
            "visibility": null,
            "align_self": null,
            "height": null,
            "min_height": null,
            "padding": null,
            "grid_auto_rows": null,
            "grid_gap": null,
            "max_width": null,
            "order": null,
            "_view_module_version": "1.2.0",
            "grid_template_areas": null,
            "object_position": null,
            "object_fit": null,
            "grid_auto_columns": null,
            "margin": null,
            "display": null,
            "left": null
          }
        },
        "6c67e671c9a045fd8e2b3396b3bb3e85": {
          "model_module": "@jupyter-widgets/controls",
          "model_name": "HBoxModel",
          "state": {
            "_view_name": "HBoxView",
            "_dom_classes": [],
            "_model_name": "HBoxModel",
            "_view_module": "@jupyter-widgets/controls",
            "_model_module_version": "1.5.0",
            "_view_count": null,
            "_view_module_version": "1.5.0",
            "box_style": "",
            "layout": "IPY_MODEL_9e06c23edb7144378562e18c55d1734c",
            "_model_module": "@jupyter-widgets/controls",
            "children": [
              "IPY_MODEL_b0103120c7554ea58bcb0629f075def1",
              "IPY_MODEL_3e346b886ecc4534ac7722bd11815775"
            ]
          }
        },
        "9e06c23edb7144378562e18c55d1734c": {
          "model_module": "@jupyter-widgets/base",
          "model_name": "LayoutModel",
          "state": {
            "_view_name": "LayoutView",
            "grid_template_rows": null,
            "right": null,
            "justify_content": null,
            "_view_module": "@jupyter-widgets/base",
            "overflow": null,
            "_model_module_version": "1.2.0",
            "_view_count": null,
            "flex_flow": null,
            "width": null,
            "min_width": null,
            "border": null,
            "align_items": null,
            "bottom": null,
            "_model_module": "@jupyter-widgets/base",
            "top": null,
            "grid_column": null,
            "overflow_y": null,
            "overflow_x": null,
            "grid_auto_flow": null,
            "grid_area": null,
            "grid_template_columns": null,
            "flex": null,
            "_model_name": "LayoutModel",
            "justify_items": null,
            "grid_row": null,
            "max_height": null,
            "align_content": null,
            "visibility": null,
            "align_self": null,
            "height": null,
            "min_height": null,
            "padding": null,
            "grid_auto_rows": null,
            "grid_gap": null,
            "max_width": null,
            "order": null,
            "_view_module_version": "1.2.0",
            "grid_template_areas": null,
            "object_position": null,
            "object_fit": null,
            "grid_auto_columns": null,
            "margin": null,
            "display": null,
            "left": null
          }
        },
        "b0103120c7554ea58bcb0629f075def1": {
          "model_module": "@jupyter-widgets/controls",
          "model_name": "FloatProgressModel",
          "state": {
            "_view_name": "ProgressView",
            "style": "IPY_MODEL_1ef4ec0de82d40afb316179b5c041ec9",
            "_dom_classes": [],
            "description": "Pandas Apply: 100%",
            "_model_name": "FloatProgressModel",
            "bar_style": "success",
            "max": 1111243,
            "_view_module": "@jupyter-widgets/controls",
            "_model_module_version": "1.5.0",
            "value": 1111243,
            "_view_count": null,
            "_view_module_version": "1.5.0",
            "orientation": "horizontal",
            "min": 0,
            "description_tooltip": null,
            "_model_module": "@jupyter-widgets/controls",
            "layout": "IPY_MODEL_d9091b17f3c54669af890595b5beedfb"
          }
        },
        "3e346b886ecc4534ac7722bd11815775": {
          "model_module": "@jupyter-widgets/controls",
          "model_name": "HTMLModel",
          "state": {
            "_view_name": "HTMLView",
            "style": "IPY_MODEL_cd0f796ffc934e7da3ea81c0824a1ec3",
            "_dom_classes": [],
            "description": "",
            "_model_name": "HTMLModel",
            "placeholder": "​",
            "_view_module": "@jupyter-widgets/controls",
            "_model_module_version": "1.5.0",
            "value": " 1111243/1111243 [08:06&lt;00:00, 2282.19it/s]",
            "_view_count": null,
            "_view_module_version": "1.5.0",
            "description_tooltip": null,
            "_model_module": "@jupyter-widgets/controls",
            "layout": "IPY_MODEL_77ceb846c0cd4d958dfca59192d98470"
          }
        },
        "1ef4ec0de82d40afb316179b5c041ec9": {
          "model_module": "@jupyter-widgets/controls",
          "model_name": "ProgressStyleModel",
          "state": {
            "_view_name": "StyleView",
            "_model_name": "ProgressStyleModel",
            "description_width": "initial",
            "_view_module": "@jupyter-widgets/base",
            "_model_module_version": "1.5.0",
            "_view_count": null,
            "_view_module_version": "1.2.0",
            "bar_color": null,
            "_model_module": "@jupyter-widgets/controls"
          }
        },
        "d9091b17f3c54669af890595b5beedfb": {
          "model_module": "@jupyter-widgets/base",
          "model_name": "LayoutModel",
          "state": {
            "_view_name": "LayoutView",
            "grid_template_rows": null,
            "right": null,
            "justify_content": null,
            "_view_module": "@jupyter-widgets/base",
            "overflow": null,
            "_model_module_version": "1.2.0",
            "_view_count": null,
            "flex_flow": null,
            "width": null,
            "min_width": null,
            "border": null,
            "align_items": null,
            "bottom": null,
            "_model_module": "@jupyter-widgets/base",
            "top": null,
            "grid_column": null,
            "overflow_y": null,
            "overflow_x": null,
            "grid_auto_flow": null,
            "grid_area": null,
            "grid_template_columns": null,
            "flex": null,
            "_model_name": "LayoutModel",
            "justify_items": null,
            "grid_row": null,
            "max_height": null,
            "align_content": null,
            "visibility": null,
            "align_self": null,
            "height": null,
            "min_height": null,
            "padding": null,
            "grid_auto_rows": null,
            "grid_gap": null,
            "max_width": null,
            "order": null,
            "_view_module_version": "1.2.0",
            "grid_template_areas": null,
            "object_position": null,
            "object_fit": null,
            "grid_auto_columns": null,
            "margin": null,
            "display": null,
            "left": null
          }
        },
        "cd0f796ffc934e7da3ea81c0824a1ec3": {
          "model_module": "@jupyter-widgets/controls",
          "model_name": "DescriptionStyleModel",
          "state": {
            "_view_name": "StyleView",
            "_model_name": "DescriptionStyleModel",
            "description_width": "",
            "_view_module": "@jupyter-widgets/base",
            "_model_module_version": "1.5.0",
            "_view_count": null,
            "_view_module_version": "1.2.0",
            "_model_module": "@jupyter-widgets/controls"
          }
        },
        "77ceb846c0cd4d958dfca59192d98470": {
          "model_module": "@jupyter-widgets/base",
          "model_name": "LayoutModel",
          "state": {
            "_view_name": "LayoutView",
            "grid_template_rows": null,
            "right": null,
            "justify_content": null,
            "_view_module": "@jupyter-widgets/base",
            "overflow": null,
            "_model_module_version": "1.2.0",
            "_view_count": null,
            "flex_flow": null,
            "width": null,
            "min_width": null,
            "border": null,
            "align_items": null,
            "bottom": null,
            "_model_module": "@jupyter-widgets/base",
            "top": null,
            "grid_column": null,
            "overflow_y": null,
            "overflow_x": null,
            "grid_auto_flow": null,
            "grid_area": null,
            "grid_template_columns": null,
            "flex": null,
            "_model_name": "LayoutModel",
            "justify_items": null,
            "grid_row": null,
            "max_height": null,
            "align_content": null,
            "visibility": null,
            "align_self": null,
            "height": null,
            "min_height": null,
            "padding": null,
            "grid_auto_rows": null,
            "grid_gap": null,
            "max_width": null,
            "order": null,
            "_view_module_version": "1.2.0",
            "grid_template_areas": null,
            "object_position": null,
            "object_fit": null,
            "grid_auto_columns": null,
            "margin": null,
            "display": null,
            "left": null
          }
        },
        "40000ff91ccc49bfbb66bf569d39c86e": {
          "model_module": "@jupyter-widgets/controls",
          "model_name": "HBoxModel",
          "state": {
            "_view_name": "HBoxView",
            "_dom_classes": [],
            "_model_name": "HBoxModel",
            "_view_module": "@jupyter-widgets/controls",
            "_model_module_version": "1.5.0",
            "_view_count": null,
            "_view_module_version": "1.5.0",
            "box_style": "",
            "layout": "IPY_MODEL_2d4d6534d6e646598f9fcfeddd1f447f",
            "_model_module": "@jupyter-widgets/controls",
            "children": [
              "IPY_MODEL_aee7caaa40b249b98957516077b5164b",
              "IPY_MODEL_047e1dbd326f42789ff6c0f7dfec7443"
            ]
          }
        },
        "2d4d6534d6e646598f9fcfeddd1f447f": {
          "model_module": "@jupyter-widgets/base",
          "model_name": "LayoutModel",
          "state": {
            "_view_name": "LayoutView",
            "grid_template_rows": null,
            "right": null,
            "justify_content": null,
            "_view_module": "@jupyter-widgets/base",
            "overflow": null,
            "_model_module_version": "1.2.0",
            "_view_count": null,
            "flex_flow": null,
            "width": null,
            "min_width": null,
            "border": null,
            "align_items": null,
            "bottom": null,
            "_model_module": "@jupyter-widgets/base",
            "top": null,
            "grid_column": null,
            "overflow_y": null,
            "overflow_x": null,
            "grid_auto_flow": null,
            "grid_area": null,
            "grid_template_columns": null,
            "flex": null,
            "_model_name": "LayoutModel",
            "justify_items": null,
            "grid_row": null,
            "max_height": null,
            "align_content": null,
            "visibility": null,
            "align_self": null,
            "height": null,
            "min_height": null,
            "padding": null,
            "grid_auto_rows": null,
            "grid_gap": null,
            "max_width": null,
            "order": null,
            "_view_module_version": "1.2.0",
            "grid_template_areas": null,
            "object_position": null,
            "object_fit": null,
            "grid_auto_columns": null,
            "margin": null,
            "display": null,
            "left": null
          }
        },
        "aee7caaa40b249b98957516077b5164b": {
          "model_module": "@jupyter-widgets/controls",
          "model_name": "FloatProgressModel",
          "state": {
            "_view_name": "ProgressView",
            "style": "IPY_MODEL_b7bca69e15774e20891bb2ff972c8a4f",
            "_dom_classes": [],
            "description": "Pandas Apply: 100%",
            "_model_name": "FloatProgressModel",
            "bar_style": "success",
            "max": 370415,
            "_view_module": "@jupyter-widgets/controls",
            "_model_module_version": "1.5.0",
            "value": 370415,
            "_view_count": null,
            "_view_module_version": "1.5.0",
            "orientation": "horizontal",
            "min": 0,
            "description_tooltip": null,
            "_model_module": "@jupyter-widgets/controls",
            "layout": "IPY_MODEL_86eb79f2f37843ce9e5b321affe10167"
          }
        },
        "047e1dbd326f42789ff6c0f7dfec7443": {
          "model_module": "@jupyter-widgets/controls",
          "model_name": "HTMLModel",
          "state": {
            "_view_name": "HTMLView",
            "style": "IPY_MODEL_f562f978ee8740b996510d505c21cf9f",
            "_dom_classes": [],
            "description": "",
            "_model_name": "HTMLModel",
            "placeholder": "​",
            "_view_module": "@jupyter-widgets/controls",
            "_model_module_version": "1.5.0",
            "value": " 370415/370415 [07:11&lt;00:00, 859.00it/s]",
            "_view_count": null,
            "_view_module_version": "1.5.0",
            "description_tooltip": null,
            "_model_module": "@jupyter-widgets/controls",
            "layout": "IPY_MODEL_20bbe8e742c144b5af419f97aa624653"
          }
        },
        "b7bca69e15774e20891bb2ff972c8a4f": {
          "model_module": "@jupyter-widgets/controls",
          "model_name": "ProgressStyleModel",
          "state": {
            "_view_name": "StyleView",
            "_model_name": "ProgressStyleModel",
            "description_width": "initial",
            "_view_module": "@jupyter-widgets/base",
            "_model_module_version": "1.5.0",
            "_view_count": null,
            "_view_module_version": "1.2.0",
            "bar_color": null,
            "_model_module": "@jupyter-widgets/controls"
          }
        },
        "86eb79f2f37843ce9e5b321affe10167": {
          "model_module": "@jupyter-widgets/base",
          "model_name": "LayoutModel",
          "state": {
            "_view_name": "LayoutView",
            "grid_template_rows": null,
            "right": null,
            "justify_content": null,
            "_view_module": "@jupyter-widgets/base",
            "overflow": null,
            "_model_module_version": "1.2.0",
            "_view_count": null,
            "flex_flow": null,
            "width": null,
            "min_width": null,
            "border": null,
            "align_items": null,
            "bottom": null,
            "_model_module": "@jupyter-widgets/base",
            "top": null,
            "grid_column": null,
            "overflow_y": null,
            "overflow_x": null,
            "grid_auto_flow": null,
            "grid_area": null,
            "grid_template_columns": null,
            "flex": null,
            "_model_name": "LayoutModel",
            "justify_items": null,
            "grid_row": null,
            "max_height": null,
            "align_content": null,
            "visibility": null,
            "align_self": null,
            "height": null,
            "min_height": null,
            "padding": null,
            "grid_auto_rows": null,
            "grid_gap": null,
            "max_width": null,
            "order": null,
            "_view_module_version": "1.2.0",
            "grid_template_areas": null,
            "object_position": null,
            "object_fit": null,
            "grid_auto_columns": null,
            "margin": null,
            "display": null,
            "left": null
          }
        },
        "f562f978ee8740b996510d505c21cf9f": {
          "model_module": "@jupyter-widgets/controls",
          "model_name": "DescriptionStyleModel",
          "state": {
            "_view_name": "StyleView",
            "_model_name": "DescriptionStyleModel",
            "description_width": "",
            "_view_module": "@jupyter-widgets/base",
            "_model_module_version": "1.5.0",
            "_view_count": null,
            "_view_module_version": "1.2.0",
            "_model_module": "@jupyter-widgets/controls"
          }
        },
        "20bbe8e742c144b5af419f97aa624653": {
          "model_module": "@jupyter-widgets/base",
          "model_name": "LayoutModel",
          "state": {
            "_view_name": "LayoutView",
            "grid_template_rows": null,
            "right": null,
            "justify_content": null,
            "_view_module": "@jupyter-widgets/base",
            "overflow": null,
            "_model_module_version": "1.2.0",
            "_view_count": null,
            "flex_flow": null,
            "width": null,
            "min_width": null,
            "border": null,
            "align_items": null,
            "bottom": null,
            "_model_module": "@jupyter-widgets/base",
            "top": null,
            "grid_column": null,
            "overflow_y": null,
            "overflow_x": null,
            "grid_auto_flow": null,
            "grid_area": null,
            "grid_template_columns": null,
            "flex": null,
            "_model_name": "LayoutModel",
            "justify_items": null,
            "grid_row": null,
            "max_height": null,
            "align_content": null,
            "visibility": null,
            "align_self": null,
            "height": null,
            "min_height": null,
            "padding": null,
            "grid_auto_rows": null,
            "grid_gap": null,
            "max_width": null,
            "order": null,
            "_view_module_version": "1.2.0",
            "grid_template_areas": null,
            "object_position": null,
            "object_fit": null,
            "grid_auto_columns": null,
            "margin": null,
            "display": null,
            "left": null
          }
        },
        "ff1dce562f02499e9c50d3c210340b4f": {
          "model_module": "@jupyter-widgets/controls",
          "model_name": "HBoxModel",
          "state": {
            "_view_name": "HBoxView",
            "_dom_classes": [],
            "_model_name": "HBoxModel",
            "_view_module": "@jupyter-widgets/controls",
            "_model_module_version": "1.5.0",
            "_view_count": null,
            "_view_module_version": "1.5.0",
            "box_style": "",
            "layout": "IPY_MODEL_df2d605c745442049d36f47b2dd9de9f",
            "_model_module": "@jupyter-widgets/controls",
            "children": [
              "IPY_MODEL_01eb4c66f03d437caa7b779f71cd43c6",
              "IPY_MODEL_1cdbba7595e74a8785008864097b5cd7"
            ]
          }
        },
        "df2d605c745442049d36f47b2dd9de9f": {
          "model_module": "@jupyter-widgets/base",
          "model_name": "LayoutModel",
          "state": {
            "_view_name": "LayoutView",
            "grid_template_rows": null,
            "right": null,
            "justify_content": null,
            "_view_module": "@jupyter-widgets/base",
            "overflow": null,
            "_model_module_version": "1.2.0",
            "_view_count": null,
            "flex_flow": null,
            "width": null,
            "min_width": null,
            "border": null,
            "align_items": null,
            "bottom": null,
            "_model_module": "@jupyter-widgets/base",
            "top": null,
            "grid_column": null,
            "overflow_y": null,
            "overflow_x": null,
            "grid_auto_flow": null,
            "grid_area": null,
            "grid_template_columns": null,
            "flex": null,
            "_model_name": "LayoutModel",
            "justify_items": null,
            "grid_row": null,
            "max_height": null,
            "align_content": null,
            "visibility": null,
            "align_self": null,
            "height": null,
            "min_height": null,
            "padding": null,
            "grid_auto_rows": null,
            "grid_gap": null,
            "max_width": null,
            "order": null,
            "_view_module_version": "1.2.0",
            "grid_template_areas": null,
            "object_position": null,
            "object_fit": null,
            "grid_auto_columns": null,
            "margin": null,
            "display": null,
            "left": null
          }
        },
        "01eb4c66f03d437caa7b779f71cd43c6": {
          "model_module": "@jupyter-widgets/controls",
          "model_name": "FloatProgressModel",
          "state": {
            "_view_name": "ProgressView",
            "style": "IPY_MODEL_398feafdc3fa45f588e31d152716103f",
            "_dom_classes": [],
            "description": "Pandas Apply: 100%",
            "_model_name": "FloatProgressModel",
            "bar_style": "success",
            "max": 1,
            "_view_module": "@jupyter-widgets/controls",
            "_model_module_version": "1.5.0",
            "value": 1,
            "_view_count": null,
            "_view_module_version": "1.5.0",
            "orientation": "horizontal",
            "min": 0,
            "description_tooltip": null,
            "_model_module": "@jupyter-widgets/controls",
            "layout": "IPY_MODEL_24c8b33f3d1e475a8db50927b80025dc"
          }
        },
        "1cdbba7595e74a8785008864097b5cd7": {
          "model_module": "@jupyter-widgets/controls",
          "model_name": "HTMLModel",
          "state": {
            "_view_name": "HTMLView",
            "style": "IPY_MODEL_810d482d4a0449baae887addd6805b6e",
            "_dom_classes": [],
            "description": "",
            "_model_name": "HTMLModel",
            "placeholder": "​",
            "_view_module": "@jupyter-widgets/controls",
            "_model_module_version": "1.5.0",
            "value": " 1/1 [00:00&lt;00:00, 36.36it/s]",
            "_view_count": null,
            "_view_module_version": "1.5.0",
            "description_tooltip": null,
            "_model_module": "@jupyter-widgets/controls",
            "layout": "IPY_MODEL_6fcaa5961f984986ba6c7c22fde100ce"
          }
        },
        "398feafdc3fa45f588e31d152716103f": {
          "model_module": "@jupyter-widgets/controls",
          "model_name": "ProgressStyleModel",
          "state": {
            "_view_name": "StyleView",
            "_model_name": "ProgressStyleModel",
            "description_width": "initial",
            "_view_module": "@jupyter-widgets/base",
            "_model_module_version": "1.5.0",
            "_view_count": null,
            "_view_module_version": "1.2.0",
            "bar_color": null,
            "_model_module": "@jupyter-widgets/controls"
          }
        },
        "24c8b33f3d1e475a8db50927b80025dc": {
          "model_module": "@jupyter-widgets/base",
          "model_name": "LayoutModel",
          "state": {
            "_view_name": "LayoutView",
            "grid_template_rows": null,
            "right": null,
            "justify_content": null,
            "_view_module": "@jupyter-widgets/base",
            "overflow": null,
            "_model_module_version": "1.2.0",
            "_view_count": null,
            "flex_flow": null,
            "width": null,
            "min_width": null,
            "border": null,
            "align_items": null,
            "bottom": null,
            "_model_module": "@jupyter-widgets/base",
            "top": null,
            "grid_column": null,
            "overflow_y": null,
            "overflow_x": null,
            "grid_auto_flow": null,
            "grid_area": null,
            "grid_template_columns": null,
            "flex": null,
            "_model_name": "LayoutModel",
            "justify_items": null,
            "grid_row": null,
            "max_height": null,
            "align_content": null,
            "visibility": null,
            "align_self": null,
            "height": null,
            "min_height": null,
            "padding": null,
            "grid_auto_rows": null,
            "grid_gap": null,
            "max_width": null,
            "order": null,
            "_view_module_version": "1.2.0",
            "grid_template_areas": null,
            "object_position": null,
            "object_fit": null,
            "grid_auto_columns": null,
            "margin": null,
            "display": null,
            "left": null
          }
        },
        "810d482d4a0449baae887addd6805b6e": {
          "model_module": "@jupyter-widgets/controls",
          "model_name": "DescriptionStyleModel",
          "state": {
            "_view_name": "StyleView",
            "_model_name": "DescriptionStyleModel",
            "description_width": "",
            "_view_module": "@jupyter-widgets/base",
            "_model_module_version": "1.5.0",
            "_view_count": null,
            "_view_module_version": "1.2.0",
            "_model_module": "@jupyter-widgets/controls"
          }
        },
        "6fcaa5961f984986ba6c7c22fde100ce": {
          "model_module": "@jupyter-widgets/base",
          "model_name": "LayoutModel",
          "state": {
            "_view_name": "LayoutView",
            "grid_template_rows": null,
            "right": null,
            "justify_content": null,
            "_view_module": "@jupyter-widgets/base",
            "overflow": null,
            "_model_module_version": "1.2.0",
            "_view_count": null,
            "flex_flow": null,
            "width": null,
            "min_width": null,
            "border": null,
            "align_items": null,
            "bottom": null,
            "_model_module": "@jupyter-widgets/base",
            "top": null,
            "grid_column": null,
            "overflow_y": null,
            "overflow_x": null,
            "grid_auto_flow": null,
            "grid_area": null,
            "grid_template_columns": null,
            "flex": null,
            "_model_name": "LayoutModel",
            "justify_items": null,
            "grid_row": null,
            "max_height": null,
            "align_content": null,
            "visibility": null,
            "align_self": null,
            "height": null,
            "min_height": null,
            "padding": null,
            "grid_auto_rows": null,
            "grid_gap": null,
            "max_width": null,
            "order": null,
            "_view_module_version": "1.2.0",
            "grid_template_areas": null,
            "object_position": null,
            "object_fit": null,
            "grid_auto_columns": null,
            "margin": null,
            "display": null,
            "left": null
          }
        },
        "c3a1144aff21427bb2dbf3d5ee9e46e1": {
          "model_module": "@jupyter-widgets/controls",
          "model_name": "HBoxModel",
          "state": {
            "_view_name": "HBoxView",
            "_dom_classes": [],
            "_model_name": "HBoxModel",
            "_view_module": "@jupyter-widgets/controls",
            "_model_module_version": "1.5.0",
            "_view_count": null,
            "_view_module_version": "1.5.0",
            "box_style": "",
            "layout": "IPY_MODEL_384d4d1a8da049e494e293b785f3477b",
            "_model_module": "@jupyter-widgets/controls",
            "children": [
              "IPY_MODEL_8d14cd80187743899ca49a848bdea22c",
              "IPY_MODEL_8f215abfae494c57b4d207002714615b"
            ]
          }
        },
        "384d4d1a8da049e494e293b785f3477b": {
          "model_module": "@jupyter-widgets/base",
          "model_name": "LayoutModel",
          "state": {
            "_view_name": "LayoutView",
            "grid_template_rows": null,
            "right": null,
            "justify_content": null,
            "_view_module": "@jupyter-widgets/base",
            "overflow": null,
            "_model_module_version": "1.2.0",
            "_view_count": null,
            "flex_flow": null,
            "width": null,
            "min_width": null,
            "border": null,
            "align_items": null,
            "bottom": null,
            "_model_module": "@jupyter-widgets/base",
            "top": null,
            "grid_column": null,
            "overflow_y": null,
            "overflow_x": null,
            "grid_auto_flow": null,
            "grid_area": null,
            "grid_template_columns": null,
            "flex": null,
            "_model_name": "LayoutModel",
            "justify_items": null,
            "grid_row": null,
            "max_height": null,
            "align_content": null,
            "visibility": null,
            "align_self": null,
            "height": null,
            "min_height": null,
            "padding": null,
            "grid_auto_rows": null,
            "grid_gap": null,
            "max_width": null,
            "order": null,
            "_view_module_version": "1.2.0",
            "grid_template_areas": null,
            "object_position": null,
            "object_fit": null,
            "grid_auto_columns": null,
            "margin": null,
            "display": null,
            "left": null
          }
        },
        "8d14cd80187743899ca49a848bdea22c": {
          "model_module": "@jupyter-widgets/controls",
          "model_name": "FloatProgressModel",
          "state": {
            "_view_name": "ProgressView",
            "style": "IPY_MODEL_b20b5907709d4dc283f32f7f1fbe6905",
            "_dom_classes": [],
            "description": "Pandas Apply: 100%",
            "_model_name": "FloatProgressModel",
            "bar_style": "success",
            "max": 1,
            "_view_module": "@jupyter-widgets/controls",
            "_model_module_version": "1.5.0",
            "value": 1,
            "_view_count": null,
            "_view_module_version": "1.5.0",
            "orientation": "horizontal",
            "min": 0,
            "description_tooltip": null,
            "_model_module": "@jupyter-widgets/controls",
            "layout": "IPY_MODEL_fcf10a52d78c430bb3d9a978d6a51865"
          }
        },
        "8f215abfae494c57b4d207002714615b": {
          "model_module": "@jupyter-widgets/controls",
          "model_name": "HTMLModel",
          "state": {
            "_view_name": "HTMLView",
            "style": "IPY_MODEL_f6edf2bb266045849403123a5f29d2b2",
            "_dom_classes": [],
            "description": "",
            "_model_name": "HTMLModel",
            "placeholder": "​",
            "_view_module": "@jupyter-widgets/controls",
            "_model_module_version": "1.5.0",
            "value": " 1/1 [00:00&lt;00:00, 30.53it/s]",
            "_view_count": null,
            "_view_module_version": "1.5.0",
            "description_tooltip": null,
            "_model_module": "@jupyter-widgets/controls",
            "layout": "IPY_MODEL_5d616cec01664a97b4481fec1138b2d5"
          }
        },
        "b20b5907709d4dc283f32f7f1fbe6905": {
          "model_module": "@jupyter-widgets/controls",
          "model_name": "ProgressStyleModel",
          "state": {
            "_view_name": "StyleView",
            "_model_name": "ProgressStyleModel",
            "description_width": "initial",
            "_view_module": "@jupyter-widgets/base",
            "_model_module_version": "1.5.0",
            "_view_count": null,
            "_view_module_version": "1.2.0",
            "bar_color": null,
            "_model_module": "@jupyter-widgets/controls"
          }
        },
        "fcf10a52d78c430bb3d9a978d6a51865": {
          "model_module": "@jupyter-widgets/base",
          "model_name": "LayoutModel",
          "state": {
            "_view_name": "LayoutView",
            "grid_template_rows": null,
            "right": null,
            "justify_content": null,
            "_view_module": "@jupyter-widgets/base",
            "overflow": null,
            "_model_module_version": "1.2.0",
            "_view_count": null,
            "flex_flow": null,
            "width": null,
            "min_width": null,
            "border": null,
            "align_items": null,
            "bottom": null,
            "_model_module": "@jupyter-widgets/base",
            "top": null,
            "grid_column": null,
            "overflow_y": null,
            "overflow_x": null,
            "grid_auto_flow": null,
            "grid_area": null,
            "grid_template_columns": null,
            "flex": null,
            "_model_name": "LayoutModel",
            "justify_items": null,
            "grid_row": null,
            "max_height": null,
            "align_content": null,
            "visibility": null,
            "align_self": null,
            "height": null,
            "min_height": null,
            "padding": null,
            "grid_auto_rows": null,
            "grid_gap": null,
            "max_width": null,
            "order": null,
            "_view_module_version": "1.2.0",
            "grid_template_areas": null,
            "object_position": null,
            "object_fit": null,
            "grid_auto_columns": null,
            "margin": null,
            "display": null,
            "left": null
          }
        },
        "f6edf2bb266045849403123a5f29d2b2": {
          "model_module": "@jupyter-widgets/controls",
          "model_name": "DescriptionStyleModel",
          "state": {
            "_view_name": "StyleView",
            "_model_name": "DescriptionStyleModel",
            "description_width": "",
            "_view_module": "@jupyter-widgets/base",
            "_model_module_version": "1.5.0",
            "_view_count": null,
            "_view_module_version": "1.2.0",
            "_model_module": "@jupyter-widgets/controls"
          }
        },
        "5d616cec01664a97b4481fec1138b2d5": {
          "model_module": "@jupyter-widgets/base",
          "model_name": "LayoutModel",
          "state": {
            "_view_name": "LayoutView",
            "grid_template_rows": null,
            "right": null,
            "justify_content": null,
            "_view_module": "@jupyter-widgets/base",
            "overflow": null,
            "_model_module_version": "1.2.0",
            "_view_count": null,
            "flex_flow": null,
            "width": null,
            "min_width": null,
            "border": null,
            "align_items": null,
            "bottom": null,
            "_model_module": "@jupyter-widgets/base",
            "top": null,
            "grid_column": null,
            "overflow_y": null,
            "overflow_x": null,
            "grid_auto_flow": null,
            "grid_area": null,
            "grid_template_columns": null,
            "flex": null,
            "_model_name": "LayoutModel",
            "justify_items": null,
            "grid_row": null,
            "max_height": null,
            "align_content": null,
            "visibility": null,
            "align_self": null,
            "height": null,
            "min_height": null,
            "padding": null,
            "grid_auto_rows": null,
            "grid_gap": null,
            "max_width": null,
            "order": null,
            "_view_module_version": "1.2.0",
            "grid_template_areas": null,
            "object_position": null,
            "object_fit": null,
            "grid_auto_columns": null,
            "margin": null,
            "display": null,
            "left": null
          }
        }
      }
    },
    "accelerator": "GPU"
  },
  "cells": [
    {
      "cell_type": "code",
      "metadata": {
        "id": "oW44OWAClUN8"
      },
      "source": [
        "# import libraries\n",
        "import os\n",
        "os.system('pip install swifter')\n",
        "os.system('pip install pyunpack')\n",
        "os.system('pip install patool')\n",
        "import numpy as np\n",
        "import pandas as pd\n",
        "import matplotlib.pyplot as plt\n",
        "import seaborn as sns\n",
        "import warnings\n",
        "from pyunpack import Archive\n",
        "import swifter\n",
        "from scipy.sparse import csr_matrix\n",
        "from sklearn.preprocessing import OneHotEncoder\n",
        "from sklearn.feature_extraction.text import CountVectorizer\n",
        "from sklearn.model_selection import train_test_split\n",
        "from scipy.sparse import coo_matrix, vstack,hstack\n",
        "import re\n",
        "import array\n",
        "from nltk.stem import PorterStemmer\n",
        "from sklearn.feature_extraction.text import TfidfVectorizer\n",
        "from collections import defaultdict\n",
        "from sklearn.feature_extraction.text import _make_int_array, CountVectorizer\n",
        "from scipy import sparse as sp\n",
        "import multiprocessing as mp\n",
        "import pickle\n",
        "from sklearn.preprocessing import normalize\n",
        "from sklearn.preprocessing import MaxAbsScaler\n",
        "import scipy.sparse\n",
        "from sklearn.preprocessing import MinMaxScaler\n",
        "from sklearn.feature_extraction.text import TfidfVectorizer\n",
        "warnings.filterwarnings(\"ignore\")\n"
      ],
      "execution_count": null,
      "outputs": []
    },
    {
      "cell_type": "code",
      "metadata": {
        "id": "hmSCC3HVFDIn"
      },
      "source": [
        "def func_extract_zip(in_path,out_path):\n",
        "    #ref - https://www.kaggle.com/general/129520\n",
        "    if not os.path.exists(out_path):\n",
        "        os.makedirs(out_path)\n",
        "    Archive(in_path).extractall(out_path)"
      ],
      "execution_count": null,
      "outputs": []
    },
    {
      "cell_type": "code",
      "metadata": {
        "id": "HoJQzNfqFDUi"
      },
      "source": [
        ""
      ],
      "execution_count": null,
      "outputs": []
    },
    {
      "cell_type": "code",
      "metadata": {
        "id": "G2W_i6TTFDmK"
      },
      "source": [
        "func_extract_zip('/content/drive/My Drive/AAIC/CS/Data/train.tsv.7z','/content/')"
      ],
      "execution_count": null,
      "outputs": []
    },
    {
      "cell_type": "code",
      "metadata": {
        "id": "dvkGJ8finQx9"
      },
      "source": [
        "#read the file\n",
        "df = pd.read_csv('train.tsv',sep='\\t')"
      ],
      "execution_count": null,
      "outputs": []
    },
    {
      "cell_type": "code",
      "metadata": {
        "id": "AKKwSq9NnX3Y",
        "outputId": "695308e4-909d-49b9-c766-5b3bc21f0380",
        "colab": {
          "base_uri": "https://localhost:8080/",
          "height": 195
        }
      },
      "source": [
        "#view top 5 rows pf file\n",
        "df.head(5)"
      ],
      "execution_count": null,
      "outputs": [
        {
          "output_type": "execute_result",
          "data": {
            "text/html": [
              "<div>\n",
              "<style scoped>\n",
              "    .dataframe tbody tr th:only-of-type {\n",
              "        vertical-align: middle;\n",
              "    }\n",
              "\n",
              "    .dataframe tbody tr th {\n",
              "        vertical-align: top;\n",
              "    }\n",
              "\n",
              "    .dataframe thead th {\n",
              "        text-align: right;\n",
              "    }\n",
              "</style>\n",
              "<table border=\"1\" class=\"dataframe\">\n",
              "  <thead>\n",
              "    <tr style=\"text-align: right;\">\n",
              "      <th></th>\n",
              "      <th>train_id</th>\n",
              "      <th>name</th>\n",
              "      <th>item_condition_id</th>\n",
              "      <th>category_name</th>\n",
              "      <th>brand_name</th>\n",
              "      <th>price</th>\n",
              "      <th>shipping</th>\n",
              "      <th>item_description</th>\n",
              "    </tr>\n",
              "  </thead>\n",
              "  <tbody>\n",
              "    <tr>\n",
              "      <th>0</th>\n",
              "      <td>0</td>\n",
              "      <td>MLB Cincinnati Reds T Shirt Size XL</td>\n",
              "      <td>3</td>\n",
              "      <td>Men/Tops/T-shirts</td>\n",
              "      <td>NaN</td>\n",
              "      <td>10.0</td>\n",
              "      <td>1</td>\n",
              "      <td>No description yet</td>\n",
              "    </tr>\n",
              "    <tr>\n",
              "      <th>1</th>\n",
              "      <td>1</td>\n",
              "      <td>Razer BlackWidow Chroma Keyboard</td>\n",
              "      <td>3</td>\n",
              "      <td>Electronics/Computers &amp; Tablets/Components &amp; P...</td>\n",
              "      <td>Razer</td>\n",
              "      <td>52.0</td>\n",
              "      <td>0</td>\n",
              "      <td>This keyboard is in great condition and works ...</td>\n",
              "    </tr>\n",
              "    <tr>\n",
              "      <th>2</th>\n",
              "      <td>2</td>\n",
              "      <td>AVA-VIV Blouse</td>\n",
              "      <td>1</td>\n",
              "      <td>Women/Tops &amp; Blouses/Blouse</td>\n",
              "      <td>Target</td>\n",
              "      <td>10.0</td>\n",
              "      <td>1</td>\n",
              "      <td>Adorable top with a hint of lace and a key hol...</td>\n",
              "    </tr>\n",
              "    <tr>\n",
              "      <th>3</th>\n",
              "      <td>3</td>\n",
              "      <td>Leather Horse Statues</td>\n",
              "      <td>1</td>\n",
              "      <td>Home/Home Décor/Home Décor Accents</td>\n",
              "      <td>NaN</td>\n",
              "      <td>35.0</td>\n",
              "      <td>1</td>\n",
              "      <td>New with tags. Leather horses. Retail for [rm]...</td>\n",
              "    </tr>\n",
              "    <tr>\n",
              "      <th>4</th>\n",
              "      <td>4</td>\n",
              "      <td>24K GOLD plated rose</td>\n",
              "      <td>1</td>\n",
              "      <td>Women/Jewelry/Necklaces</td>\n",
              "      <td>NaN</td>\n",
              "      <td>44.0</td>\n",
              "      <td>0</td>\n",
              "      <td>Complete with certificate of authenticity</td>\n",
              "    </tr>\n",
              "  </tbody>\n",
              "</table>\n",
              "</div>"
            ],
            "text/plain": [
              "   train_id  ...                                   item_description\n",
              "0         0  ...                                 No description yet\n",
              "1         1  ...  This keyboard is in great condition and works ...\n",
              "2         2  ...  Adorable top with a hint of lace and a key hol...\n",
              "3         3  ...  New with tags. Leather horses. Retail for [rm]...\n",
              "4         4  ...          Complete with certificate of authenticity\n",
              "\n",
              "[5 rows x 8 columns]"
            ]
          },
          "metadata": {
            "tags": []
          },
          "execution_count": 3
        }
      ]
    },
    {
      "cell_type": "markdown",
      "metadata": {
        "id": "Pya1eD1fUduJ"
      },
      "source": [
        "## **EDA**"
      ]
    },
    {
      "cell_type": "code",
      "metadata": {
        "id": "tfcA29uxngBG",
        "outputId": "24179775-053a-41ec-bd1d-42eae483124a",
        "colab": {
          "base_uri": "https://localhost:8080/",
          "height": 269
        }
      },
      "source": [
        "#understand each columns datatype\n",
        "df.info()"
      ],
      "execution_count": null,
      "outputs": [
        {
          "output_type": "stream",
          "text": [
            "<class 'pandas.core.frame.DataFrame'>\n",
            "RangeIndex: 1482535 entries, 0 to 1482534\n",
            "Data columns (total 8 columns):\n",
            " #   Column             Non-Null Count    Dtype  \n",
            "---  ------             --------------    -----  \n",
            " 0   train_id           1482535 non-null  int64  \n",
            " 1   name               1482535 non-null  object \n",
            " 2   item_condition_id  1482535 non-null  int64  \n",
            " 3   category_name      1476208 non-null  object \n",
            " 4   brand_name         849853 non-null   object \n",
            " 5   price              1482535 non-null  float64\n",
            " 6   shipping           1482535 non-null  int64  \n",
            " 7   item_description   1482531 non-null  object \n",
            "dtypes: float64(1), int64(3), object(4)\n",
            "memory usage: 90.5+ MB\n"
          ],
          "name": "stdout"
        }
      ]
    },
    {
      "cell_type": "code",
      "metadata": {
        "id": "rYlynhzSnkUH",
        "outputId": "dc5641ae-2ab3-471c-aeb6-b4f653a0d873",
        "colab": {
          "base_uri": "https://localhost:8080/",
          "height": 168
        }
      },
      "source": [
        "#find NA/null values in data\n",
        "df.isna().sum()\n",
        "#we can see there is need of data imputation as there are many NULL/NA values"
      ],
      "execution_count": null,
      "outputs": [
        {
          "output_type": "execute_result",
          "data": {
            "text/plain": [
              "train_id                  0\n",
              "name                      0\n",
              "item_condition_id         0\n",
              "category_name          6327\n",
              "brand_name           632682\n",
              "price                     0\n",
              "shipping                  0\n",
              "item_description          4\n",
              "dtype: int64"
            ]
          },
          "metadata": {
            "tags": []
          },
          "execution_count": 5
        }
      ]
    },
    {
      "cell_type": "code",
      "metadata": {
        "id": "hNe-w8pS0uyV"
      },
      "source": [
        "def imputation(data):\n",
        "    \"\"\"\n",
        "    Fill the missing values\n",
        "    \"\"\"\n",
        "    data.category_name.fillna(value = \"other/other/other\", inplace = True)\n",
        "    data.brand_name.fillna(value = \"unknown\", inplace = True)\n",
        "    data.item_description.fillna(value = \"no_description\", inplace = True)\n",
        "    return data\n",
        "\n",
        "train = imputation(df)\n"
      ],
      "execution_count": null,
      "outputs": []
    },
    {
      "cell_type": "code",
      "metadata": {
        "id": "Q0Y5y9jF0vDi",
        "outputId": "974e4656-3850-4a01-9b5e-bdb629172fd4",
        "colab": {
          "base_uri": "https://localhost:8080/",
          "height": 168
        }
      },
      "source": [
        "train.isna().sum()"
      ],
      "execution_count": null,
      "outputs": [
        {
          "output_type": "execute_result",
          "data": {
            "text/plain": [
              "train_id             0\n",
              "name                 0\n",
              "item_condition_id    0\n",
              "category_name        0\n",
              "brand_name           0\n",
              "price                0\n",
              "shipping             0\n",
              "item_description     0\n",
              "dtype: int64"
            ]
          },
          "metadata": {
            "tags": []
          },
          "execution_count": 6
        }
      ]
    },
    {
      "cell_type": "code",
      "metadata": {
        "id": "UeibcHfOnsXR",
        "outputId": "42116033-a4d8-42a9-8c91-3d3a10e803f2",
        "colab": {
          "base_uri": "https://localhost:8080/",
          "height": 34
        }
      },
      "source": [
        "#max price of item in dataset\n",
        "max(train['price'])"
      ],
      "execution_count": null,
      "outputs": [
        {
          "output_type": "execute_result",
          "data": {
            "text/plain": [
              "2009.0"
            ]
          },
          "metadata": {
            "tags": []
          },
          "execution_count": 8
        }
      ]
    },
    {
      "cell_type": "code",
      "metadata": {
        "id": "sJNnvMk1ol77",
        "outputId": "d5ac96eb-e082-444d-9f35-43d86b148a7a",
        "colab": {
          "base_uri": "https://localhost:8080/",
          "height": 34
        }
      },
      "source": [
        "#minimum price of item in dataset\n",
        "min(train['price'])"
      ],
      "execution_count": null,
      "outputs": [
        {
          "output_type": "execute_result",
          "data": {
            "text/plain": [
              "0.0"
            ]
          },
          "metadata": {
            "tags": []
          },
          "execution_count": 9
        }
      ]
    },
    {
      "cell_type": "code",
      "metadata": {
        "id": "GITELQCZoo8u",
        "outputId": "dcf434ee-0cf3-4df8-cbb4-b0e9fdd58bd4",
        "colab": {
          "base_uri": "https://localhost:8080/",
          "height": 296
        }
      },
      "source": [
        "# histogram of log(price+1)\n",
        "sns.distplot(np.log(train['price']+1))\n",
        "\n",
        "#by below chart we can see that log prices are somewhat centered around 2 and 3"
      ],
      "execution_count": null,
      "outputs": [
        {
          "output_type": "execute_result",
          "data": {
            "text/plain": [
              "<matplotlib.axes._subplots.AxesSubplot at 0x7f89f290f908>"
            ]
          },
          "metadata": {
            "tags": []
          },
          "execution_count": 10
        },
        {
          "output_type": "display_data",
          "data": {
            "image/png": "[encoded data removed]",
            "text/plain": [
              "<Figure size 432x288 with 1 Axes>"
            ]
          },
          "metadata": {
            "tags": [],
            "needs_background": "light"
          }
        }
      ]
    },
    {
      "cell_type": "code",
      "metadata": {
        "id": "HsZjum5l2Zov",
        "outputId": "7339084d-d604-4fec-fe59-df20738f9726",
        "colab": {
          "base_uri": "https://localhost:8080/",
          "height": 296
        }
      },
      "source": [
        "#below box plot gives us understanding that 50% of log prices are between 2.5-3.5\n",
        "sns.boxplot(np.log(train['price']+1))"
      ],
      "execution_count": null,
      "outputs": [
        {
          "output_type": "execute_result",
          "data": {
            "text/plain": [
              "<matplotlib.axes._subplots.AxesSubplot at 0x7f549c1937b8>"
            ]
          },
          "metadata": {
            "tags": []
          },
          "execution_count": 33
        },
        {
          "output_type": "display_data",
          "data": {
            "image/png": "[encoded data removed]",
            "text/plain": [
              "<Figure size 432x288 with 1 Axes>"
            ]
          },
          "metadata": {
            "tags": [],
            "needs_background": "light"
          }
        }
      ]
    },
    {
      "cell_type": "code",
      "metadata": {
        "id": "X5EWemXM19_o",
        "outputId": "fbc878eb-3cda-48ab-f624-d60bf1e3f601",
        "colab": {
          "base_uri": "https://localhost:8080/",
          "height": 34
        }
      },
      "source": [
        "print(\"There are\", train[train[\"price\"] == 0].price.size, \"items with price 0.\")"
      ],
      "execution_count": null,
      "outputs": [
        {
          "output_type": "stream",
          "text": [
            "There are 874 items with price 0.\n"
          ],
          "name": "stdout"
        }
      ]
    },
    {
      "cell_type": "code",
      "metadata": {
        "id": "PNkaWit7pIsM",
        "outputId": "d5638f5f-6d3f-4b99-fb35-726739aa8c1c",
        "colab": {
          "base_uri": "https://localhost:8080/",
          "height": 297
        }
      },
      "source": [
        "#number of items according to item condition \n",
        "sns.countplot(x=\"item_condition_id\", data=train)"
      ],
      "execution_count": null,
      "outputs": [
        {
          "output_type": "execute_result",
          "data": {
            "text/plain": [
              "<matplotlib.axes._subplots.AxesSubplot at 0x7f54c426ac88>"
            ]
          },
          "metadata": {
            "tags": []
          },
          "execution_count": 16
        },
        {
          "output_type": "display_data",
          "data": {
            "image/png": "[encoded data removed]",
            "text/plain": [
              "<Figure size 432x288 with 1 Axes>"
            ]
          },
          "metadata": {
            "tags": [],
            "needs_background": "light"
          }
        }
      ]
    },
    {
      "cell_type": "code",
      "metadata": {
        "id": "RYaq2qXLqx1Z",
        "outputId": "f183b80b-fbb0-4452-b3d7-762b56c583d8",
        "colab": {
          "base_uri": "https://localhost:8080/",
          "height": 297
        }
      },
      "source": [
        "#Percentile price distribution according to item condition\n",
        "sns.boxplot(x=\"item_condition_id\", y=np.log(train['price']+1), data=train)"
      ],
      "execution_count": null,
      "outputs": [
        {
          "output_type": "execute_result",
          "data": {
            "text/plain": [
              "<matplotlib.axes._subplots.AxesSubplot at 0x7f54c418c048>"
            ]
          },
          "metadata": {
            "tags": []
          },
          "execution_count": 18
        },
        {
          "output_type": "display_data",
          "data": {
            "image/png": "[encoded data removed]",
            "text/plain": [
              "<Figure size 432x288 with 1 Axes>"
            ]
          },
          "metadata": {
            "tags": [],
            "needs_background": "light"
          }
        }
      ]
    },
    {
      "cell_type": "code",
      "metadata": {
        "id": "J8maHAVorC8O",
        "outputId": "8bb88f8f-ce71-450b-e747-dfad8ae571a7",
        "colab": {
          "base_uri": "https://localhost:8080/",
          "height": 296
        }
      },
      "source": [
        "#Here we can see opposite of what was expected. Prodctus  were shipping is free have lower prices than were shipping is not free.\n",
        "sns.boxplot(x=\"shipping\", y=np.log(df['price']+1), data=df)"
      ],
      "execution_count": null,
      "outputs": [
        {
          "output_type": "execute_result",
          "data": {
            "text/plain": [
              "<matplotlib.axes._subplots.AxesSubplot at 0x7f54c4055d68>"
            ]
          },
          "metadata": {
            "tags": []
          },
          "execution_count": 19
        },
        {
          "output_type": "display_data",
          "data": {
            "image/png": "[encoded data removed]",
            "text/plain": [
              "<Figure size 432x288 with 1 Axes>"
            ]
          },
          "metadata": {
            "tags": [],
            "needs_background": "light"
          }
        }
      ]
    },
    {
      "cell_type": "code",
      "metadata": {
        "id": "CAI0F6Dtxnee",
        "outputId": "5be02b82-8515-4128-f273-62b7d903c542",
        "colab": {
          "base_uri": "https://localhost:8080/",
          "height": 34
        }
      },
      "source": [
        "brand = train[\"brand_name\"].value_counts()\n",
        "print(\"There are\", brands.size, \"unique known brands.\")"
      ],
      "execution_count": null,
      "outputs": [
        {
          "output_type": "stream",
          "text": [
            "There are 4810 unique known brands.\n"
          ],
          "name": "stdout"
        }
      ]
    },
    {
      "cell_type": "code",
      "metadata": {
        "id": "WPDtAFHJzYcy",
        "outputId": "0c1d2bb5-70a8-40e7-80fe-88197aed3958",
        "colab": {
          "base_uri": "https://localhost:8080/",
          "height": 607
        }
      },
      "source": [
        "#Top 10 Brands and count of items beloging to that brand\n",
        "plt.figure(figsize = (10, 10))\n",
        "sns.barplot(brand[1:11].values, brand[1:11].index)\n",
        "plt.title(\"Top 10 known brand\")\n",
        "plt.show()"
      ],
      "execution_count": null,
      "outputs": [
        {
          "output_type": "display_data",
          "data": {
            "image/png": "[encoded data removed]",
            "text/plain": [
              "<Figure size 720x720 with 1 Axes>"
            ]
          },
          "metadata": {
            "tags": [],
            "needs_background": "light"
          }
        }
      ]
    },
    {
      "cell_type": "code",
      "metadata": {
        "id": "Rg1dZ5XX8GOe",
        "outputId": "5fa2aefe-4ab6-48d8-e2f2-ded386dd0fbf",
        "colab": {
          "base_uri": "https://localhost:8080/",
          "height": 622
        }
      },
      "source": [
        "# we can use all this stats on brand column  as one of featuers in our feature list\n",
        "brand_std_price = train.groupby([\"brand_name\"], as_index = True).price.std().sort_values(ascending = False)\n",
        "print(\"std price by brands\", brand_std_price[:10])\n",
        "brand_mean_price = train.groupby([\"brand_name\"], as_index = True).price.mean().sort_values(ascending = False)\n",
        "print(\"mean price by brands\", brand_mean_price[:10])\n",
        "brand_median_price = train.groupby([\"brand_name\"]).price.median().sort_values(ascending = False)\n",
        "print(\"median price by brands\", brand_median_price[:10])"
      ],
      "execution_count": null,
      "outputs": [
        {
          "output_type": "stream",
          "text": [
            "std price by brands brand_name\n",
            "Demdaco               592.555483\n",
            "Proenza Schouler      420.369183\n",
            "MCM Worldwide         351.470773\n",
            "Saint Laurent         339.769830\n",
            "Celine                339.356795\n",
            "Louis Vuitton         247.801644\n",
            "Goyard                242.051339\n",
            "Sanyo                 226.328216\n",
            "MICHELE               224.704134\n",
            "Valentino Garavani    222.253909\n",
            "Name: price, dtype: float64\n",
            "mean price by brands brand_name\n",
            "Demdaco             429.000000\n",
            "Proenza Schouler    413.250000\n",
            "Auto Meter          344.000000\n",
            "Oris                300.000000\n",
            "MCM Worldwide       289.173913\n",
            "Longines            254.000000\n",
            "Vitamix             253.111111\n",
            "Blendtec            251.800000\n",
            "David Yurman        248.611570\n",
            "Celine              238.780822\n",
            "Name: price, dtype: float64\n",
            "median price by brands brand_name\n",
            "Demdaco                429.0\n",
            "Auto Meter             344.0\n",
            "Proenza Schouler       315.5\n",
            "Oris                   300.0\n",
            "Longines               254.0\n",
            "Blendtec               250.0\n",
            "Dainese                230.0\n",
            "Frédérique Constant    224.0\n",
            "David Yurman           220.0\n",
            "Vitamix                205.0\n",
            "Name: price, dtype: float64\n"
          ],
          "name": "stdout"
        }
      ]
    },
    {
      "cell_type": "code",
      "metadata": {
        "id": "YSlnq4dxOMHR"
      },
      "source": [
        "#https://www.kaggle.com/konohayui/mercari-price-suggestion-eda\n",
        "\n",
        "train[\"main_cat\"] = train.category_name.str.extract(\"([^/]+)/[^/]+/[^/]+\")\n",
        "train[\"subcat1\"] = train.category_name.str.extract(\"[^/]+/([^/]+)/[^/]+\")\n",
        "train[\"subcat2\"] = train.category_name.str.extract(\"[^/]+/[^/]+/([^/]+)\")\n",
        "train['log_price'] = np.log(train['price']+1)"
      ],
      "execution_count": null,
      "outputs": []
    },
    {
      "cell_type": "code",
      "metadata": {
        "id": "6_icSf18O1E0",
        "outputId": "4ae7966d-a937-40a9-e085-35b196adbcc5",
        "colab": {
          "base_uri": "https://localhost:8080/",
          "height": 627
        }
      },
      "source": [
        "# we can add quantile price of each subcategory as a featuer\n",
        "category = train.main_cat\n",
        "order = sorted(category.unique())\n",
        "fig, ax = plt.subplots(1, 2, figsize = (15, 10))\n",
        "sns.boxplot(x = train.log_price, y = category, orient = \"h\", order = order, ax = ax[0])\n",
        "ax[0].set_title(\"Log Price Base On Main Subcategories\", fontsize = 20)\n",
        "ax[0].set_ylabel(\"Categories\", fontsize = 15)\n",
        "sns.barplot(category.value_counts().values, category.value_counts().index, order = order, ax = ax[1])\n",
        "ax[1].set_title(\"Count of items in each category\", fontsize = 20)\n",
        "plt.show()"
      ],
      "execution_count": null,
      "outputs": [
        {
          "output_type": "display_data",
          "data": {
            "image/png": "[encoded data removed]",
            "text/plain": [
              "<Figure size 1080x720 with 2 Axes>"
            ]
          },
          "metadata": {
            "tags": [],
            "needs_background": "light"
          }
        }
      ]
    },
    {
      "cell_type": "markdown",
      "metadata": {
        "id": "rBRSmoIfLv_z"
      },
      "source": [
        "## **Pre-processing**\n"
      ]
    },
    {
      "cell_type": "code",
      "metadata": {
        "id": "onfyX9c_Zl1p"
      },
      "source": [
        "df = imputation(df)\n",
        "df = df[(df.price >= 3) & (df.price <= 2000)]\n",
        "y = df['price']\n",
        "X = df.drop(['price'], axis = 1)\n",
        "\n"
      ],
      "execution_count": null,
      "outputs": []
    },
    {
      "cell_type": "code",
      "metadata": {
        "id": "2CYjld5qVJU3"
      },
      "source": [
        "#split data into train tes\n",
        "X_train, X_test, y_train, y_test = train_test_split(X, y, test_size=0.25, random_state=42)"
      ],
      "execution_count": null,
      "outputs": []
    },
    {
      "cell_type": "code",
      "metadata": {
        "id": "uEnghXB6LzIT",
        "outputId": "08a86682-5ea1-4c08-8e69-09691c125192",
        "colab": {
          "base_uri": "https://localhost:8080/",
          "height": 34
        }
      },
      "source": [
        "# pre-process shipping\n",
        "\n",
        "def pre_shipping(df):\n",
        "  \"\"\"\n",
        "  This function takes df as input and converts shipping column into csr matrix and returns that\n",
        "  i/p= Whole Dataframe\n",
        "  o/p= Shipping coloumn in csr matrix format\n",
        "  o/p shape = (?,1)\n",
        "  \"\"\"\n",
        "  shipping = np.array(df['shipping'])\n",
        "  shipping = shipping.reshape(-1,1)\n",
        "  shipping = csr_matrix(shipping)\n",
        "\n",
        "  return shipping\n",
        "\n",
        "\n",
        "X_train_shipping = pre_shipping(X_train)\n",
        "X_test_shipping =  pre_shipping(X_test)\n",
        "X_train_shipping.shape, X_test_shipping.shape"
      ],
      "execution_count": null,
      "outputs": [
        {
          "output_type": "execute_result",
          "data": {
            "text/plain": [
              "((1111243, 1), (370415, 1))"
            ]
          },
          "metadata": {
            "tags": []
          },
          "execution_count": 81
        }
      ]
    },
    {
      "cell_type": "code",
      "metadata": {
        "id": "0oK1MWBuLzV4",
        "outputId": "7cd69f79-8a10-44fd-8ebf-fae8120eacc3",
        "colab": {
          "base_uri": "https://localhost:8080/",
          "height": 34
        }
      },
      "source": [
        "# item_condition_id \n",
        "\n",
        "def pre_item_condition_id(df,vectorizer=None,train=True):\n",
        "  \"\"\"\n",
        "  This function is to pre-process item_condition_id column. We apply One hot encoding on item_condition_id column\n",
        "  i/p= whole Dataframe\n",
        "  o/p = OneHotEncoded csr matrix of item_condition_id column\n",
        "  o/p shape = (?,5)\n",
        "  \"\"\"\n",
        "  if train==True:\n",
        "    item_condition = np.array(df['item_condition_id']).reshape(-1,1)\n",
        "    item_condition_vec = OneHotEncoder()\n",
        "    item_condition_vec.fit(item_condition)\n",
        "    item_condition = csr_matrix(item_condition_vec.transform(item_condition))\n",
        "\n",
        "    return item_condition,item_condition_vec\n",
        "  else:\n",
        "    item_condition = np.array(df['item_condition_id']).reshape(-1,1)\n",
        "    item_condition = csr_matrix(vectorizer.transform(item_condition))\n",
        "    return item_condition\n",
        "\n",
        "\n",
        "X_train_item_condition,item_condition_vec  = pre_item_condition_id(X_train)\n",
        "\n",
        "pkl_filename = '/content/drive/My Drive/AAIC/CS/item_condition_vec.pkl'\n",
        "with open(pkl_filename, 'wb') as file:\n",
        "  pickle.dump(item_condition_vec,file)\n",
        "\n",
        "with open(pkl_filename, 'rb') as file:\n",
        "    item_condition_vec = pickle.load(file)\n",
        "\n",
        "X_test_item_condition = pre_item_condition_id(X_test,item_condition_vec,train=False)\n",
        "X_train_item_condition.shape,X_test_item_condition.shape"
      ],
      "execution_count": null,
      "outputs": [
        {
          "output_type": "execute_result",
          "data": {
            "text/plain": [
              "((1111243, 5), (370415, 5))"
            ]
          },
          "metadata": {
            "tags": []
          },
          "execution_count": 82
        }
      ]
    },
    {
      "cell_type": "code",
      "metadata": {
        "id": "IYX7iFP8RkUN",
        "outputId": "50aeb446-d601-4dd1-b08f-7f5d5434e291",
        "colab": {
          "base_uri": "https://localhost:8080/",
          "height": 34
        }
      },
      "source": [
        "#pre-process category_name\n",
        "\n",
        "def pre_cat(df,main_cat_vec=None,subcat1_vec=None,subcat2_vec=None,training=True):\n",
        "  \"\"\"\n",
        "  This function does the pre-processing of category_name variable. We first split this variable into 3 parts main category, sub category1 and subcategory 2\n",
        "  One this new 3 columns One Hot encoding is appiled. Then all 3 a combined together and returend as output.\n",
        "  df = Whole datfarme \n",
        "  main_cat_vec = Vectorizer for main category required during test time\n",
        "  subcat1_vec =  Vectorizer for sub category1 required during test time\n",
        "  subcat2_vec =  Vectorizer for sub category2 required during test time\n",
        "  o/p = csr matrix of One hot encodeding of all 3 coloumn\n",
        "  o/p shape = (?,973)\n",
        "  \"\"\"\n",
        "\n",
        "  def pre_cat_name(x):\n",
        "    \"\"\"\n",
        "    This function is used to pre-process the text.\n",
        "    \"\"\"\n",
        "    x = str(x).lower()\n",
        "    x = re.sub('[^A-Za-z0-9]+', ' ', x)\n",
        "    x = re.sub(' +', ' ', x)\n",
        "    x = x.replace(' ','_')\n",
        "    return x\n",
        "\n",
        "  def pre_item_condition_id(df,vectorizer=None,training=True):\n",
        "    \"\"\"\n",
        "    This function returns the onehot encoded featuers.\n",
        "    \"\"\"\n",
        "    if training==True:\n",
        "      item_condition = df\n",
        "      item_condition_vec = CountVectorizer(lowercase=False)\n",
        "      item_condition_vec.fit(item_condition)\n",
        "      item_condition = csr_matrix(item_condition_vec.transform(item_condition))\n",
        "\n",
        "      return item_condition,item_condition_vec\n",
        "    else:\n",
        "      item_condition = df\n",
        "      item_condition = csr_matrix(vectorizer.transform(item_condition))\n",
        "      return item_condition\n",
        "\n",
        "  train = df\n",
        "  train[\"main_cat\"] = train.category_name.str.extract(\"([^/]+)/[^/]+/[^/]+\")\n",
        "  train[\"subcat1\"] = train.category_name.str.extract(\"[^/]+/([^/]+)/[^/]+\")\n",
        "  train[\"subcat2\"] = train.category_name.str.extract(\"[^/]+/[^/]+/([^/]+)\")\n",
        "  train[\"main_cat\"]  = train[\"main_cat\"].apply(pre_cat_name)\n",
        "  train[\"subcat1\"]  = train[\"subcat1\"].apply(pre_cat_name)\n",
        "  train[\"subcat2\"]  = train[\"subcat2\"].apply(pre_cat_name)\n",
        "\n",
        "  if training==True:\n",
        "    main_cat, main_cat_vec  = pre_item_condition_id(train[\"main_cat\"] )\n",
        "    subcat1,subcat1_vec = pre_item_condition_id(train[\"subcat1\"] )\n",
        "    subcat2,subcat2_vec = pre_item_condition_id(train[\"subcat2\"] )\n",
        "    cat = hstack([main_cat,subcat1,subcat2])\n",
        "\n",
        "    return cat,main_cat_vec,subcat1_vec,subcat2_vec\n",
        "  else:\n",
        "    main_cat  = pre_item_condition_id(train[\"main_cat\"],main_cat_vec,training )\n",
        "    subcat1 = pre_item_condition_id(train[\"subcat1\"] ,subcat1_vec,training)\n",
        "    subcat2 = pre_item_condition_id(train[\"subcat2\"] ,subcat2_vec,training)\n",
        "    cat = hstack([main_cat,subcat1,subcat2])\n",
        "\n",
        "    return cat\n",
        "\n",
        "X_train_cat,main_cat_vec,subcat1_vec,subcat2_vec = pre_cat(X_train)\n",
        "\n",
        "pkl_filename = '/content/drive/My Drive/AAIC/CS/main_cat_vec.pkl'\n",
        "with open(pkl_filename, 'wb') as file:\n",
        "  pickle.dump(main_cat_vec,file)\n",
        "\n",
        "with open(pkl_filename, 'rb') as file:\n",
        "    main_cat_vec = pickle.load(file)\n",
        "\n",
        "pkl_filename = '/content/drive/My Drive/AAIC/CS/subcat1_vec.pkl'\n",
        "with open(pkl_filename, 'wb') as file:\n",
        "  pickle.dump(subcat1_vec,file)\n",
        "\n",
        "with open(pkl_filename, 'rb') as file:\n",
        "    subcat1_vec = pickle.load(file)\n",
        "\n",
        "pkl_filename = '/content/drive/My Drive/AAIC/CS/subcat2_vec.pkl'\n",
        "with open(pkl_filename, 'wb') as file:\n",
        "  pickle.dump(subcat2_vec,file)\n",
        "\n",
        "with open(pkl_filename, 'rb') as file:\n",
        "    subcat2_vec = pickle.load(file)\n",
        "\n",
        "X_test_cat = pre_cat(X_test,main_cat_vec,subcat1_vec,subcat2_vec,training=False)\n",
        "\n",
        "X_train_cat.shape,X_test_cat.shape"
      ],
      "execution_count": null,
      "outputs": [
        {
          "output_type": "execute_result",
          "data": {
            "text/plain": [
              "((1111243, 985), (370415, 985))"
            ]
          },
          "metadata": {
            "tags": []
          },
          "execution_count": 83
        }
      ]
    },
    {
      "cell_type": "code",
      "metadata": {
        "id": "td5EI6nbhhjg",
        "outputId": "764a9eb9-1e3c-4926-fbdb-2b7c662bc6fd",
        "colab": {
          "base_uri": "https://localhost:8080/",
          "height": 131,
          "referenced_widgets": [
            "b2dea910f42c4c9fa153b74f9be465c2",
            "6dcd003e007646eaa758e95485319f81",
            "b2c90b8ebcb04482a1c96f3bdbbb130d",
            "63ab321c47ad4c75bc397cc7e00bbe9e",
            "e53dd25a69ff461598c1a6c050973bc5",
            "5f419de7ea554086a96ab7dd88d24c46",
            "7f7949a8c81f41a4b11d85b63555cbf0",
            "b4e34a94896946f6a7e730740270bb25",
            "f65629f51fc945bc970d17e73cb44652",
            "8a841aaa6aea4439a6961ba54c91361c",
            "e1bc7af63bb344a788c945c9ab8483e9",
            "3178593c9fe5431fb68607b3a8687aa1",
            "54e958f4ed80422bb3660982d63ed189",
            "6736fb6fa7ea4ebc88a6b68548f03eff",
            "2d837a1b2b0944e995601a98fcd4c362",
            "cd5fce8c81cc4a99a2ecda4212c84445"
          ]
        }
      },
      "source": [
        "# https://gist.github.com/sebleier/554280\n",
        "# we are removing the words from the stop words list: 'no', 'nor', 'not'\n",
        "\n",
        "# https://stackoverflow.com/a/47091490/4084039\n",
        "\n",
        "\n",
        "def text_pre(data,tf_idf_vect=None,vec_type=None,training=True):\n",
        "  \"\"\"\n",
        "  This function is to pre-process textual data and return TF-IDF vectorized output. Here we combine name,barnd name and item description and convert it to single column.\n",
        "  i/p = data with name,barnd name and item description  as input column\n",
        "  o/p = TF-IDF vectorize output\n",
        "  shape = (?,200000)\n",
        "  \"\"\"\n",
        "\n",
        "  stopwords= set(['br', 'the', 'i', 'me', 'my', 'myself', 'we', 'our', 'ours', 'ourselves', 'you', \"you're\", \"you've\",\\\n",
        "            \"you'll\", \"you'd\", 'your', 'yours', 'yourself', 'yourselves', 'he', 'him', 'his', 'himself', \\\n",
        "            'she', \"she's\", 'her', 'hers', 'herself', 'it', \"it's\", 'its', 'itself', 'they', 'them', 'their',\\\n",
        "            'theirs', 'themselves', 'what', 'which', 'who', 'whom', 'this', 'that', \"that'll\", 'these', 'those', \\\n",
        "            'am', 'is', 'are', 'was', 'were', 'be', 'been', 'being', 'have', 'has', 'had', 'having', 'do', 'does', \\\n",
        "            'did', 'doing', 'a', 'an', 'the', 'and', 'but', 'if', 'or', 'because', 'as', 'until', 'while', 'of', \\\n",
        "            'at', 'by', 'for', 'with', 'about', 'against', 'between', 'into', 'through', 'during', 'before', 'after',\\\n",
        "            'above', 'below', 'to', 'from', 'up', 'down', 'in', 'out', 'on', 'off', 'over', 'under', 'again', 'further',\\\n",
        "            'then', 'once', 'here', 'there', 'when', 'where', 'why', 'how', 'all', 'any', 'both', 'each', 'few', 'more',\\\n",
        "            'most', 'other', 'some', 'such', 'only', 'own', 'same', 'so', 'than', 'too', 'very', \\\n",
        "            's', 't', 'can', 'will', 'just', 'don', \"don't\", 'should', \"should've\", 'now', 'd', 'll', 'm', 'o', 're', \\\n",
        "            've', 'y', 'ain', 'aren', \"aren't\", 'couldn', \"couldn't\", 'didn', \"didn't\", 'doesn', \"doesn't\", 'hadn',\\\n",
        "            \"hadn't\", 'hasn', \"hasn't\", 'haven', \"haven't\", 'isn', \"isn't\", 'ma', 'mightn', \"mightn't\", 'mustn',\\\n",
        "            \"mustn't\", 'needn', \"needn't\", 'shan', \"shan't\", 'shouldn', \"shouldn't\", 'wasn', \"wasn't\", 'weren', \"weren't\", \\\n",
        "            'won', \"won't\", 'wouldn', \"wouldn't\"])\n",
        "\n",
        "  ps = PorterStemmer() #create object of porterstemmer\n",
        "\n",
        "  def decontracted(phrase):\n",
        "      \"\"\"\n",
        "      This function is used for doing basic cleaning of sentences.\n",
        "      i/p = string (sentence)\n",
        "      o/p = string (clean sentence)\n",
        "      \"\"\"\n",
        "\n",
        "      phrase = re.sub(r\"won't\", \"will not\", phrase) # expansion of word won't to will not\n",
        "      phrase = re.sub(r\"can\\'t\", \"can not\", phrase)\n",
        "\n",
        "      phrase =  re.sub(r\"http\\S+\", \"\", phrase)\n",
        "\n",
        "      phrase = re.sub(r\"n\\'t\", \" not\", phrase)\n",
        "      phrase = re.sub(r\"\\'re\", \" are\", phrase)\n",
        "      phrase = re.sub(r\"\\'s\", \" is\", phrase)\n",
        "      phrase = re.sub(r\"\\'d\", \" would\", phrase)\n",
        "      phrase = re.sub(r\"\\'ll\", \" will\", phrase)\n",
        "      phrase = re.sub(r\"\\'t\", \" not\", phrase)\n",
        "      phrase = re.sub(r\"\\'ve\", \" have\", phrase)\n",
        "      phrase = re.sub(r\"\\'m\", \" am\", phrase)\n",
        "      phrase = phrase.replace(':)', 'smiley').replace('(:', 'smiley').replace(':-)', 'smiley') # replace emojis with word smiley\n",
        "\n",
        "      phrase = str(phrase).lower()# convert everything to lower\n",
        "      phrase = re.sub('[^A-Za-z]+', ' ', phrase)# just keep alphabehets remove numbers and other unwanted chars\n",
        "      phrase = re.sub(' +', ' ', phrase)# remove extra spaces\n",
        "      \n",
        "      phrase = ' '.join(e for e in phrase.split() if e not in stopwords)#remove stopwords\n",
        "      #phrase = ' '.join(ps.stem(e) for e in phrase.split())#stemming of sentence\n",
        "\n",
        "      return phrase\n",
        "\n",
        "  df = data\n",
        "\n",
        "  df['text'] = df['name'] + \" \" + df['brand_name'] + \" \" + df['item_description']\n",
        "\n",
        "  df['text'] = df['text'].swifter.apply(decontracted)\n",
        "\n",
        "  if training==True:\n",
        "    if vec_type=='BOW':\n",
        "      tf_idf_vect = CountVectorizer(ngram_range=(1,2), min_df=1,max_features=100000)\n",
        "    if vec_type=='tf-idf':\n",
        "      tf_idf_vect = TfidfVectorizer(ngram_range=(1,2), min_df=1,max_features=100000)\n",
        "\n",
        "    tf_idf_vect.fit(df['text'])\n",
        "    final_tf_idf = tf_idf_vect.transform(df['text'])\n",
        "\n",
        "    return final_tf_idf , tf_idf_vect\n",
        "  \n",
        "  else:\n",
        "\n",
        "    final_tf_idf = tf_idf_vect.transform(df['text'])\n",
        "\n",
        "    return final_tf_idf\n",
        "\n",
        "\n",
        "X_train_text,vectorizer_text = text_pre(X_train,vec_type='BOW')\n",
        "\n",
        "pkl_filename = '/content/drive/My Drive/AAIC/CS/vec_text_tfidf.pkl'\n",
        "with open(pkl_filename, 'wb') as file:\n",
        "  pickle.dump(vectorizer_text,file)\n",
        "\n",
        "with open(pkl_filename, 'rb') as file:\n",
        "    vectorizer_text = pickle.load(file)\n",
        "\n",
        "X_test_text = text_pre(X_test,vectorizer_text,training=False)\n",
        "\n",
        "X_train_text.shape,X_test_text.shape"
      ],
      "execution_count": null,
      "outputs": [
        {
          "output_type": "display_data",
          "data": {
            "application/vnd.jupyter.widget-view+json": {
              "model_id": "b2dea910f42c4c9fa153b74f9be465c2",
              "version_minor": 0,
              "version_major": 2
            },
            "text/plain": [
              "HBox(children=(FloatProgress(value=0.0, description='Pandas Apply', max=1111243.0, style=ProgressStyle(descrip…"
            ]
          },
          "metadata": {
            "tags": []
          }
        },
        {
          "output_type": "stream",
          "text": [
            "\n"
          ],
          "name": "stdout"
        },
        {
          "output_type": "display_data",
          "data": {
            "application/vnd.jupyter.widget-view+json": {
              "model_id": "f65629f51fc945bc970d17e73cb44652",
              "version_minor": 0,
              "version_major": 2
            },
            "text/plain": [
              "HBox(children=(FloatProgress(value=0.0, description='Pandas Apply', max=370415.0, style=ProgressStyle(descript…"
            ]
          },
          "metadata": {
            "tags": []
          }
        },
        {
          "output_type": "stream",
          "text": [
            "\n"
          ],
          "name": "stdout"
        },
        {
          "output_type": "execute_result",
          "data": {
            "text/plain": [
              "((1111243, 100000), (370415, 100000))"
            ]
          },
          "metadata": {
            "tags": []
          },
          "execution_count": 84
        }
      ]
    },
    {
      "cell_type": "code",
      "metadata": {
        "id": "Jgcl-rkq5BnI",
        "outputId": "66314802-5637-4ff4-c69e-9a8a912656cd",
        "colab": {
          "base_uri": "https://localhost:8080/",
          "height": 34
        }
      },
      "source": [
        "def get_year(data,year_vec=None,training=True):\n",
        "  \"\"\"\n",
        "  This function extracts year from the string.\n",
        "  i/p = data with all textual columns\n",
        "  o/p = onehotencoded vector of year\n",
        "  \"\"\"\n",
        "\n",
        "  def extract_year(text):\n",
        "    \"\"\"\n",
        "    Give text input it finds if year is present and if present returns the most recent year.\n",
        "    ip = text (string)\n",
        "    o/p = year (int)\n",
        "    \"\"\"\n",
        "    #https://github.com/pjankiewicz/mercari-solution/blob/master/mercari/text_utils.py\n",
        "    text = str(text)\n",
        "    matches = [int(year) for year in re.findall('[0-9]{4}', text)\n",
        "               if int(year) >= 1970 and int(year) <= 2018]\n",
        "    if matches:\n",
        "        return str(max(matches))\n",
        "    else:\n",
        "        return str(0)\n",
        "\n",
        "  df = data\n",
        "\n",
        "  df['text'] = df['name'] + \" \" +df['item_description']\n",
        "\n",
        "  df['year'] = df['text'].apply(extract_year)\n",
        "\n",
        "  if training==True:\n",
        "\n",
        "    tf_idf_vect = CountVectorizer(ngram_range=(1,1))\n",
        "    tf_idf_vect.fit(df['year'])\n",
        "    final_tf_idf = tf_idf_vect.transform(df['year'])\n",
        "\n",
        "    return final_tf_idf , tf_idf_vect\n",
        "\n",
        "  else:\n",
        "\n",
        "    final_tf_idf = year_vec.transform(df['year'])\n",
        "\n",
        "    return final_tf_idf\n",
        "\n",
        "\n",
        "X_train_year,vectorizer_year = get_year(X_train)\n",
        "\n",
        "# pkl_filename = '/content/drive/My Drive/AAIC/CS/vectorizer_year.pkl'\n",
        "# with open(pkl_filename, 'wb') as file:\n",
        "#   pickle.dump(vectorizer_year,file)\n",
        "\n",
        "# with open(pkl_filename, 'rb') as file:\n",
        "#     vectorizer_year = pickle.load(file)\n",
        "\n",
        "X_test_year = get_year(X_test,vectorizer_year,training=False)\n",
        "\n",
        "X_train_year.shape,X_test_year.shape"
      ],
      "execution_count": null,
      "outputs": [
        {
          "output_type": "execute_result",
          "data": {
            "text/plain": [
              "((1111243, 49), (370415, 49))"
            ]
          },
          "metadata": {
            "tags": []
          },
          "execution_count": 14
        }
      ]
    },
    {
      "cell_type": "code",
      "metadata": {
        "id": "JEK-wOuy9lBb",
        "outputId": "ea7604a2-a4eb-4532-8ce8-0ec05865cfd9",
        "colab": {
          "base_uri": "https://localhost:8080/",
          "height": 114,
          "referenced_widgets": [
            "6c67e671c9a045fd8e2b3396b3bb3e85",
            "9e06c23edb7144378562e18c55d1734c",
            "b0103120c7554ea58bcb0629f075def1",
            "3e346b886ecc4534ac7722bd11815775",
            "1ef4ec0de82d40afb316179b5c041ec9",
            "d9091b17f3c54669af890595b5beedfb",
            "cd0f796ffc934e7da3ea81c0824a1ec3",
            "77ceb846c0cd4d958dfca59192d98470",
            "40000ff91ccc49bfbb66bf569d39c86e",
            "2d4d6534d6e646598f9fcfeddd1f447f",
            "aee7caaa40b249b98957516077b5164b",
            "047e1dbd326f42789ff6c0f7dfec7443",
            "b7bca69e15774e20891bb2ff972c8a4f",
            "86eb79f2f37843ce9e5b321affe10167",
            "f562f978ee8740b996510d505c21cf9f",
            "20bbe8e742c144b5af419f97aa624653"
          ]
        }
      },
      "source": [
        "def num_feature(df,vectorizer_nums=None,scale=None,training=True):\n",
        "  \"\"\"\n",
        "  After some EDA and manually reviewing textual data I found out that there was lot of numerical information avaliable in text eg. 10ml , 2 packs, 10 lipsticks 512gb.\n",
        "  This numerical data had impact on the price of item. So this a function does numerical vectorization of this data.So we first find patterns like (10ml,160gb 2 packs..etc)\n",
        "  So now we have sentence \"250ml 2 packs of xyz company\" so here in \"ml\" column we had \"250\" and in packs column we add \"2\".At the end a sparse matrix is given out as output \n",
        "  \"\"\"\n",
        "\n",
        "\n",
        "  def get_featuers(phrase):\n",
        "    \"\"\"\n",
        "    this function finds all possible numercial patterns in training data and accordingly updates the dictionary.\n",
        "    \"\"\"\n",
        "    phrase = str(phrase).lower()\n",
        "    phrase = re.sub('[^A-Za-z0-9]+', ' ', phrase)\n",
        "    phrase = re.sub(' +', ' ', phrase)\n",
        "\n",
        "    nums = re.findall('[0-9]+.[A-Za-z]+',phrase)\n",
        "\n",
        "    if len(nums)>0:\n",
        "      for i in nums:\n",
        "        a =  ''.join(re.findall('[A-Za-z]+',i))\n",
        "        dic[a] = 0\n",
        "    else:\n",
        "      dic['no_data']=0\n",
        "\n",
        "    return None\n",
        "\n",
        "  def number(phrase): \n",
        "    \"\"\"\n",
        "    Finds all patterns and returns dictionary. eg {\"ml\":10,\"gb\":512},{\"key(pattern)\":\"value(quantity)\"}\n",
        "    \"\"\"\n",
        "    send = dict()\n",
        "    phrase = str(phrase).lower()\n",
        "    phrase = re.sub('[^A-Za-z0-9]+', ' ', phrase)\n",
        "    phrase = re.sub(' +', ' ', phrase)\n",
        "\n",
        "    nums = re.findall('[0-9]+.[A-Za-z]+',phrase)\n",
        "\n",
        "    if len(nums)>0:\n",
        "      for z in nums:\n",
        "        a =  ''.join(re.findall('[A-Za-z]+',z))\n",
        "        b =  ''.join(re.findall(r'\\d+',z))\n",
        "        b = int(b)\n",
        "        send[a] = b\n",
        "    else:\n",
        "      send['no_data']=1\n",
        "\n",
        "    return send\n",
        "\n",
        "  def get_matrix(temp,dic):\n",
        "    \"\"\"\n",
        "    This function is used to generate a csr matrix for numrecial vectorization\n",
        "    \"\"\"\n",
        "    row_ind = []\n",
        "    col_ind = []\n",
        "    data = []\n",
        "    row=0\n",
        "    for i in temp:\n",
        "      for z in i:\n",
        "        if z in dic:\n",
        "          col = dic[z]\n",
        "          data_temp = i[z]\n",
        "          row_ind.append(int(row))\n",
        "          col_ind.append(int(col))\n",
        "          data.append(int(data_temp))\n",
        "      row+=1\n",
        "\n",
        "    row_ind = np.array(row_ind,dtype=int)\n",
        "\n",
        "    col_ind = np.array(col_ind,dtype=int)\n",
        "\n",
        "    data = np.array(data,dtype=float)      \n",
        "\n",
        "    matrix = csr_matrix((data, (row_ind, col_ind)), shape=(df.shape[0],len(dic)))\n",
        "\n",
        "    return matrix\n",
        "\n",
        "  \n",
        "  if training==True:\n",
        "    dic = dict()\n",
        "    df['text'] = df['name'] + \" \" + df['item_description']\n",
        "    df['text'].swifter.apply(get_featuers)\n",
        "    c=0\n",
        "    for i in dic:\n",
        "      dic[i] = c\n",
        "      c+=1\n",
        "\n",
        "    temp = df['text'].apply(number)\n",
        "\n",
        "    matrix = get_matrix(temp,dic)\n",
        "\n",
        "    scaler = MaxAbsScaler(copy=False)\n",
        "    scaler.fit(matrix)\n",
        "    matrix = scaler.transform(matrix)\n",
        "\n",
        "    return matrix,dic,scaler\n",
        "\n",
        "  else:\n",
        "    df['text'] = df['name'] + \" \" + df['item_description']\n",
        "    temp = df['text'].swifter.apply(number)\n",
        "\n",
        "    matrix = get_matrix(temp,vectorizer_nums)\n",
        "\n",
        "    matrix = scale.transform(matrix)\n",
        "\n",
        "    return matrix\n",
        "\n",
        "\n",
        "\n",
        "\n",
        "    \n",
        "\n",
        "X_train_num,vectorizer_nums,scaler_num = num_feature(X_train)\n",
        "\n",
        "pkl_filename = '/content/drive/My Drive/AAIC/CS/vectorizer_nums.pkl'\n",
        "with open(pkl_filename, 'wb') as file:\n",
        "  pickle.dump(vectorizer_nums,file)\n",
        "\n",
        "with open(pkl_filename, 'rb') as file:\n",
        "    vectorizer_nums = pickle.load(file)\n",
        "\n",
        "\n",
        "pkl_filename = '/content/drive/My Drive/AAIC/CS/scaler_num.pkl'\n",
        "with open(pkl_filename, 'wb') as file:\n",
        "  pickle.dump(scaler_num,file)\n",
        "\n",
        "with open(pkl_filename, 'rb') as file:\n",
        "    scaler_num = pickle.load(file)\n",
        "\n",
        "X_test_num = num_feature(X_test,vectorizer_nums,scaler_num,training=False)\n",
        "\n",
        "\n",
        "\n",
        "  \n"
      ],
      "execution_count": null,
      "outputs": [
        {
          "output_type": "display_data",
          "data": {
            "application/vnd.jupyter.widget-view+json": {
              "model_id": "6c67e671c9a045fd8e2b3396b3bb3e85",
              "version_minor": 0,
              "version_major": 2
            },
            "text/plain": [
              "HBox(children=(FloatProgress(value=0.0, description='Pandas Apply', max=1111243.0, style=ProgressStyle(descrip…"
            ]
          },
          "metadata": {
            "tags": []
          }
        },
        {
          "output_type": "stream",
          "text": [
            "\n"
          ],
          "name": "stdout"
        },
        {
          "output_type": "display_data",
          "data": {
            "application/vnd.jupyter.widget-view+json": {
              "model_id": "40000ff91ccc49bfbb66bf569d39c86e",
              "version_minor": 0,
              "version_major": 2
            },
            "text/plain": [
              "HBox(children=(FloatProgress(value=0.0, description='Pandas Apply', max=370415.0, style=ProgressStyle(descript…"
            ]
          },
          "metadata": {
            "tags": []
          }
        },
        {
          "output_type": "stream",
          "text": [
            "\n"
          ],
          "name": "stdout"
        }
      ]
    },
    {
      "cell_type": "code",
      "metadata": {
        "id": "2ZSRiWd-Qz9S"
      },
      "source": [
        "# (2) Generate Data Encodings\n",
        "from sklearn.preprocessing import StandardScaler\n",
        "y_scaler = StandardScaler(copy=True)\n",
        "y_train = y_scaler.fit_transform(np.log1p(y_train.values.reshape(-1, 1)))\n",
        "y_test = y_scaler.transform(np.log1p(y_test.values.reshape(-1, 1)))"
      ],
      "execution_count": null,
      "outputs": []
    },
    {
      "cell_type": "code",
      "metadata": {
        "id": "OhsSn2RP-gS3"
      },
      "source": [
        "pkl_filename = '/content/drive/My Drive/AAIC/CS/y_scaler.pkl'\n",
        "with open(pkl_filename, 'wb') as file:\n",
        "  pickle.dump(y_scaler,file)\n",
        "\n"
      ],
      "execution_count": null,
      "outputs": []
    },
    {
      "cell_type": "code",
      "metadata": {
        "id": "XrQHr6gmq4Uj",
        "outputId": "16da041e-aa1c-4b65-ee9a-b9a35b8e4db1",
        "colab": {
          "base_uri": "https://localhost:8080/",
          "height": 34
        }
      },
      "source": [
        "X_train = hstack([X_train_shipping,X_train_item_condition,X_train_cat,X_train_text,X_train_num]).tocsr().astype('float32')\n",
        "\n",
        "X_test = hstack([X_test_shipping,X_test_item_condition,X_test_cat,X_test_text,X_test_num]).tocsr().astype('float32')\n",
        "\n",
        "\n",
        "X_train.shape,y_train.shape,X_test.shape,y_test.shape"
      ],
      "execution_count": null,
      "outputs": [
        {
          "output_type": "execute_result",
          "data": {
            "text/plain": [
              "((1111243, 128160), (1111243, 1), (370415, 128160), (370415, 1))"
            ]
          },
          "metadata": {
            "tags": []
          },
          "execution_count": 95
        }
      ]
    },
    {
      "cell_type": "markdown",
      "metadata": {
        "id": "iyV48Qj47GgC"
      },
      "source": [
        "##Modeling"
      ]
    },
    {
      "cell_type": "code",
      "metadata": {
        "id": "yENRQdJ98ytP"
      },
      "source": [
        "from sklearn.metrics import mean_squared_log_error\n",
        "from sklearn.metrics import fbeta_score, make_scorer\n",
        "import math"
      ],
      "execution_count": null,
      "outputs": []
    },
    {
      "cell_type": "code",
      "metadata": {
        "id": "Uj9K0AEDr3_h"
      },
      "source": [
        "#RMSLE error function\n",
        "\n",
        "\n",
        "def rmsle_error1(y, y_pred):\n",
        "    assert len(y) == len(y_pred)\n",
        "    to_sum = [(math.log(y_pred[i] + 1) - math.log(y[i] + 1)) ** 2.0 for i,pred in enumerate(y_pred)]\n",
        "    return (sum(to_sum) * (1.0/len(y))) ** 0.5"
      ],
      "execution_count": null,
      "outputs": []
    },
    {
      "cell_type": "markdown",
      "metadata": {
        "id": "WjSipOKy1Uhr"
      },
      "source": [
        "Random model\n"
      ]
    },
    {
      "cell_type": "code",
      "metadata": {
        "id": "iF_zgc3_1TCN",
        "outputId": "d1c4af1f-32e3-4b1f-816b-6ea0635e0004",
        "colab": {
          "base_uri": "https://localhost:8080/",
          "height": 34
        }
      },
      "source": [
        "y_pred = np.random.randint(0,2009, size=(X_test.shape[0]))\n",
        "test = np.expm1(y_scaler.inverse_transform(y_test.reshape(-1, 1))[:, 0])\n",
        "\n",
        "error = rmsle_error1(test,y_pred)\n",
        "print('Error of random model on test data is ',error)"
      ],
      "execution_count": null,
      "outputs": [
        {
          "output_type": "stream",
          "text": [
            "Error of random model on test data is  3.833406767624553\n"
          ],
          "name": "stdout"
        }
      ]
    },
    {
      "cell_type": "markdown",
      "metadata": {
        "id": "Oaz44cmq5UBQ"
      },
      "source": [
        "lgbmRegressor model\n"
      ]
    },
    {
      "cell_type": "code",
      "metadata": {
        "id": "0Mq6uZy_kijU"
      },
      "source": [
        "import lightgbm as lgb\n",
        "from scipy.stats import uniform, truncnorm, randint\n",
        "from sklearn.model_selection import RandomizedSearchCV\n",
        "from scipy.stats import uniform, truncnorm, randint\n",
        "from sklearn.model_selection import cross_val_score\n",
        "from hyperopt import hp\n",
        "import numpy as np\n",
        "from hyperopt import hp, fmin, tpe, Trials, STATUS_OK"
      ],
      "execution_count": null,
      "outputs": []
    },
    {
      "cell_type": "code",
      "metadata": {
        "id": "ksWHH6jPveDl"
      },
      "source": [
        "lgb_reg_params = {\n",
        "    'learning_rate':    hp.uniform('learning_rate',0.1,1),\n",
        "    'max_depth':        hp.choice('max_depth',        np.arange(2, 100, 1, dtype=int)),\n",
        "    'min_child_weight': hp.choice('min_child_weight', np.arange(1, 50, 1, dtype=int)),\n",
        "    'colsample_bytree': hp.uniform('colsample_bytree',0.4,1),\n",
        "    'subsample':        hp.uniform('subsample', 0.6, 1),\n",
        "    'num_leaves':       hp.choice('num_leaves',       np.arange(1, 200, 1, dtype=int)),\n",
        "    'min_split_gain':   hp.uniform('min_split_gain', 0, 1),\n",
        "    'reg_alpha':        hp.uniform('reg_alpha',0,1),\n",
        "    'reg_lambda':       hp.uniform('reg_lambda',0,1),\n",
        "    'n_estimators':     5\n",
        "}"
      ],
      "execution_count": null,
      "outputs": []
    },
    {
      "cell_type": "code",
      "metadata": {
        "id": "e7OlOTk7veBB"
      },
      "source": [
        "def f(params):\n",
        "  lgbm = lgb.LGBMRegressor(n_jobs=-1,early_stopping_rounds=None,**params)\n",
        "  score = cross_val_score(lgbm, X_train, y_train, cv=2,scoring=rmsle,n_jobs=-1).mean()\n",
        "  return score\n"
      ],
      "execution_count": null,
      "outputs": []
    },
    {
      "cell_type": "code",
      "metadata": {
        "id": "mKQ8H_YPvd5-",
        "outputId": "84eaaf93-8db0-40ca-fb1a-90fdc6024110",
        "colab": {
          "base_uri": "https://localhost:8080/",
          "height": 34
        }
      },
      "source": [
        "from hyperopt import hp, fmin, tpe, Trials, STATUS_OK\n",
        "trials = Trials()\n",
        "result = fmin(\n",
        "    fn=f,                           # objective function\n",
        "    space=lgb_reg_params,   # parameter space\n",
        "    algo=tpe.suggest,               # surrogate algorithm\n",
        "    max_evals=50,                  # no. of evaluations\n",
        "    trials=trials                   # trials object that keeps track of the sample results (optional)\n",
        ")"
      ],
      "execution_count": null,
      "outputs": [
        {
          "output_type": "stream",
          "text": [
            "100%|██████████| 50/50 [39:56<00:00, 47.92s/it, best loss: 0.5523740675103042]\n"
          ],
          "name": "stdout"
        }
      ]
    },
    {
      "cell_type": "code",
      "metadata": {
        "id": "Cwaie3dEvd24",
        "outputId": "99a46086-7336-40fc-8490-e1ec7861e875",
        "colab": {
          "base_uri": "https://localhost:8080/",
          "height": 168
        }
      },
      "source": [
        "result"
      ],
      "execution_count": null,
      "outputs": [
        {
          "output_type": "execute_result",
          "data": {
            "text/plain": [
              "{'colsample_bytree': 0.7530877215212517,\n",
              " 'learning_rate': 0.724999895478641,\n",
              " 'max_depth': 39,\n",
              " 'min_child_weight': 37,\n",
              " 'min_split_gain': 0.681526590404596,\n",
              " 'num_leaves': 183,\n",
              " 'reg_alpha': 0.2540720078883964,\n",
              " 'reg_lambda': 0.40179438719204774,\n",
              " 'subsample': 0.8161654497615456}"
            ]
          },
          "metadata": {
            "tags": []
          },
          "execution_count": 29
        }
      ]
    },
    {
      "cell_type": "code",
      "metadata": {
        "id": "6m_woYm4jvon"
      },
      "source": [
        "params ={'colsample_bytree': 0.75,\n",
        " 'learning_rate': 0.72,\n",
        " 'max_depth': 39,\n",
        " 'min_child_weight': 37,\n",
        " 'min_split_gain': 0.6,\n",
        " 'num_leaves': 183,\n",
        " 'reg_alpha': 0.2,\n",
        " 'reg_lambda': 0.4,\n",
        " 'subsample': 0.81,\n",
        " 'n_estimators':800}\n",
        "\n",
        "lgbm = lgb.LGBMRegressor(n_jobs=-1,early_stopping_rounds=None,**params)"
      ],
      "execution_count": null,
      "outputs": []
    },
    {
      "cell_type": "code",
      "metadata": {
        "id": "G04ETDM-qNR2",
        "outputId": "cdde3ee3-7556-46ba-95e5-d333c22731c0",
        "colab": {
          "base_uri": "https://localhost:8080/",
          "height": 134
        }
      },
      "source": [
        "lgbm.fit(X_train,y_train)\n"
      ],
      "execution_count": null,
      "outputs": [
        {
          "output_type": "execute_result",
          "data": {
            "text/plain": [
              "LGBMRegressor(boosting_type='gbdt', class_weight=None, colsample_bytree=0.75,\n",
              "              early_stopping_rounds=None, importance_type='split',\n",
              "              learning_rate=0.72, max_depth=39, min_child_samples=20,\n",
              "              min_child_weight=37, min_split_gain=0.6, n_estimators=800,\n",
              "              n_jobs=-1, num_leaves=183, objective=None, random_state=None,\n",
              "              reg_alpha=0.2, reg_lambda=0.4, silent=True, subsample=0.81,\n",
              "              subsample_for_bin=200000, subsample_freq=0)"
            ]
          },
          "metadata": {
            "tags": []
          },
          "execution_count": 27
        }
      ]
    },
    {
      "cell_type": "code",
      "metadata": {
        "id": "GbEL73Crfs-j"
      },
      "source": [
        "pkl_filename = '/content/drive/My Drive/AAIC/CS/lgbm_model.pkl'\n",
        "with open(pkl_filename, 'wb') as file:\n",
        "  pickle.dump(lgbm,file)"
      ],
      "execution_count": null,
      "outputs": []
    },
    {
      "cell_type": "code",
      "metadata": {
        "id": "v1fv5eHHknRc",
        "outputId": "62fd2ae4-0d39-465f-9937-29dd6388aa02",
        "colab": {
          "base_uri": "https://localhost:8080/",
          "height": 50
        }
      },
      "source": [
        "y_pred_lgbm = y_scaler.inverse_transform(lgbm.predict(X_test).reshape(-1, 1))[:, 0]\n",
        "y_pred_train = y_scaler.inverse_transform(lgbm.predict(X_train).reshape(-1, 1))[:, 0]\n",
        "\n",
        "train = y_scaler.inverse_transform(y_train.reshape(-1, 1))[:, 0]\n",
        "test = y_scaler.inverse_transform(y_test.reshape(-1, 1))[:, 0]\n",
        "\n",
        "print('Train error',rmsle_error1(np.expm1(train),np.expm1(y_pred_train)))\n",
        "\n",
        "print('Test error',rmsle_error1(np.expm1(test),np.expm1(y_pred_lgbm)))"
      ],
      "execution_count": null,
      "outputs": [
        {
          "output_type": "stream",
          "text": [
            "Train error 0.4108587822275103\n",
            "Test error 0.4602447036139441\n"
          ],
          "name": "stdout"
        }
      ]
    },
    {
      "cell_type": "markdown",
      "metadata": {
        "id": "Gw7PoOKaqP2g"
      },
      "source": [
        "Sgd"
      ]
    },
    {
      "cell_type": "code",
      "metadata": {
        "id": "FVCy0Z1Hm6jO"
      },
      "source": [
        "from sklearn.svm import SVR\n",
        "from sklearn.kernel_approximation import Nystroem\n",
        "from sklearn.linear_model import SGDRegressor\n",
        "svr_params = {\n",
        "    'loss':    hp.choice('loss',['squared_loss', 'huber', 'epsilon_insensitive', 'squared_epsilon_insensitive']),\n",
        "    'penalty':        hp.choice('penalty',['l1','l2','elasticnet']),\n",
        "    'alpha': hp.choice('alpha',np.arange(0.0001, 20, 0.0001, dtype=float)),\n",
        "    'max_iter':5000,\n",
        "    'n_iter_no_change':100\n",
        "}"
      ],
      "execution_count": null,
      "outputs": []
    },
    {
      "cell_type": "code",
      "metadata": {
        "id": "8c6VQEAwm6nz"
      },
      "source": [
        "def f(params):\n",
        "  lgbm = SGDRegressor(**params)\n",
        "  score = cross_val_score(lgbm, X_train, y_train, cv=2,scoring=rmsle,n_jobs=-1).mean()\n",
        "  return score\n"
      ],
      "execution_count": null,
      "outputs": []
    },
    {
      "cell_type": "code",
      "metadata": {
        "id": "5XF_sgKom6rI"
      },
      "source": [
        "trials = Trials()\n",
        "result = fmin(\n",
        "    fn=f,                           # objective function\n",
        "    space=svr_params,   # parameter space\n",
        "    algo=tpe.suggest,               # surrogate algorithm\n",
        "    max_evals=50,                  # no. of evaluations\n",
        "    trials=trials                   # trials object that keeps track of the sample results (optional)\n",
        ")\n",
        "result"
      ],
      "execution_count": null,
      "outputs": []
    },
    {
      "cell_type": "code",
      "metadata": {
        "id": "_VC_J137m7D5",
        "outputId": "e10d35bf-d485-47fa-f797-7dbdddabce03",
        "colab": {
          "base_uri": "https://localhost:8080/",
          "height": 118
        }
      },
      "source": [
        "sgr = SGDRegressor(max_iter=200000,n_iter_no_change=100,loss='squared_epsilon_insensitive',penalty='elasticnet',alpha=0.01)\n",
        "sgr.fit(X_train, y_train)"
      ],
      "execution_count": null,
      "outputs": [
        {
          "output_type": "execute_result",
          "data": {
            "text/plain": [
              "SGDRegressor(alpha=0.01, average=False, early_stopping=False, epsilon=0.1,\n",
              "             eta0=0.01, fit_intercept=True, l1_ratio=0.15,\n",
              "             learning_rate='invscaling', loss='squared_epsilon_insensitive',\n",
              "             max_iter=200000, n_iter_no_change=100, penalty='elasticnet',\n",
              "             power_t=0.25, random_state=None, shuffle=True, tol=0.001,\n",
              "             validation_fraction=0.1, verbose=0, warm_start=False)"
            ]
          },
          "metadata": {
            "tags": []
          },
          "execution_count": 30
        }
      ]
    },
    {
      "cell_type": "code",
      "metadata": {
        "id": "aB_Y1CeHWy_E"
      },
      "source": [
        "pkl_filename = '/content/drive/My Drive/AAIC/CS/sgr_model.pkl'\n",
        "with open(pkl_filename, 'wb') as file:\n",
        "  pickle.dump(sgr,file)"
      ],
      "execution_count": null,
      "outputs": []
    },
    {
      "cell_type": "code",
      "metadata": {
        "id": "U1kJMQrem69j",
        "outputId": "954d4029-1a02-4667-9b70-8c0661268892",
        "colab": {
          "base_uri": "https://localhost:8080/",
          "height": 50
        }
      },
      "source": [
        "y_pred_sgr = y_scaler.inverse_transform(sgr.predict(X_test).reshape(-1, 1))[:, 0]\n",
        "y_pred_train = y_scaler.inverse_transform(sgr.predict(X_train).reshape(-1, 1))[:, 0]\n",
        "\n",
        "train = y_scaler.inverse_transform(y_train.reshape(-1, 1))[:, 0]\n",
        "test = y_scaler.inverse_transform(y_test.reshape(-1, 1))[:, 0]\n",
        "\n",
        "print('Train error',rmsle_error1(np.expm1(train),np.expm1(y_pred_train)))\n",
        "\n",
        "print('Test error',rmsle_error1(np.expm1(test),np.expm1(y_pred_sgr)))"
      ],
      "execution_count": null,
      "outputs": [
        {
          "output_type": "stream",
          "text": [
            "Train error 0.5820026566794738\n",
            "Test error 0.5825602631953664\n"
          ],
          "name": "stdout"
        }
      ]
    },
    {
      "cell_type": "markdown",
      "metadata": {
        "id": "Jf_iNFZM4z_V"
      },
      "source": [
        "MLP1"
      ]
    },
    {
      "cell_type": "code",
      "metadata": {
        "id": "sDb5UhI8ExmR"
      },
      "source": [
        "# DL Libs..\n",
        "import tensorflow as tf\n",
        "from tensorflow.keras.preprocessing.text import Tokenizer\n",
        "from tensorflow.keras.preprocessing.sequence import pad_sequences\n",
        "from tensorflow.keras.layers import Dense, Input , Dropout, Flatten,concatenate,LSTM\n",
        "from tensorflow.keras.layers import Embedding\n",
        "import tensorflow.keras\n",
        "from tensorflow.keras.models import Model,load_model\n",
        "from tensorflow.keras.layers import BatchNormalization\n",
        "from tensorflow.keras.utils import plot_model\n",
        "from tensorflow.keras.callbacks import ModelCheckpoint,TensorBoard,ReduceLROnPlateau, EarlyStopping\n",
        "from tensorflow.keras import backend as K\n",
        "from tensorflow.keras import optimizers"
      ],
      "execution_count": null,
      "outputs": []
    },
    {
      "cell_type": "code",
      "metadata": {
        "id": "1LykIybB81Tn",
        "outputId": "553ee846-eaa3-4731-f7f7-51fa9e45ed8f",
        "colab": {
          "base_uri": "https://localhost:8080/",
          "height": 151
        }
      },
      "source": [
        "def mlp_1(X_train):\n",
        "  tf.keras.backend.clear_session() \n",
        "  print(X_train.shape[1])\n",
        "  model_in = Input(shape=(X_train.shape[1],), dtype='float32', sparse=True)\n",
        "\n",
        "  out = Dense(256, activation='tanh')(model_in)\n",
        "  out = Dropout(0.25)(out)\n",
        "  out = Dense(124, activation='tanh')(out)\n",
        "  out = Dense(64, activation='tanh')(out)\n",
        "  out = Dense(64, activation='tanh')(out)\n",
        "  out = Dense(32, activation='tanh')(out)\n",
        "  model_out = Dense(1)(out)\n",
        "  model = Model(model_in, model_out)\n",
        "  return model\n",
        "\n",
        "\n",
        "\n",
        "mlp1 = mlp_1(X_train)\n",
        "mlp1.compile(optimizer=tf.keras.optimizers.Adam(lr=0.001),loss='mean_squared_error',metrics='mean_squared_error')\n",
        "for i in range(5):\n",
        "  mlp1.fit(x=X_train,y=y_train,validation_data=(X_test,y_test),batch_size=2**(5+i),epochs=1)\n",
        "\n",
        "y_pred_mlp1 = y_scaler.inverse_transform(mlp1.predict(X_test).reshape(-1, 1))[:, 0]\n",
        "y_pred_train = y_scaler.inverse_transform(mlp1.predict(X_train).reshape(-1, 1))[:, 0]\n",
        "\n",
        "train = y_scaler.inverse_transform(y_train.reshape(-1, 1))[:, 0]\n",
        "test = y_scaler.inverse_transform(y_test.reshape(-1, 1))[:, 0]\n",
        "\n",
        "print('Train error',rmsle_error1(np.expm1(train),np.expm1(y_pred_train)))\n",
        "\n",
        "print('Test error',rmsle_error1(np.expm1(test),np.expm1(y_pred_mlp1)))"
      ],
      "execution_count": null,
      "outputs": [
        {
          "output_type": "stream",
          "text": [
            "128160\n",
            "34727/34727 [==============================] - 179s 5ms/step - loss: 0.4115 - mean_squared_error: 0.4115 - val_loss: 0.3697 - val_mean_squared_error: 0.3697\n",
            "17364/17364 [==============================] - 94s 5ms/step - loss: 0.3186 - mean_squared_error: 0.3186 - val_loss: 0.3499 - val_mean_squared_error: 0.3499\n",
            "8682/8682 [==============================] - 51s 6ms/step - loss: 0.2715 - mean_squared_error: 0.2715 - val_loss: 0.3478 - val_mean_squared_error: 0.3478\n",
            "4341/4341 [==============================] - 28s 6ms/step - loss: 0.2342 - mean_squared_error: 0.2342 - val_loss: 0.3466 - val_mean_squared_error: 0.3466\n",
            "2171/2171 [==============================] - 16s 8ms/step - loss: 0.2056 - mean_squared_error: 0.2056 - val_loss: 0.3527 - val_mean_squared_error: 0.3527\n",
            "Train error 0.3050008722057456\n",
            "Test error 0.4430948722654895\n"
          ],
          "name": "stdout"
        }
      ]
    },
    {
      "cell_type": "code",
      "metadata": {
        "id": "h37Hp_Z8nqRP"
      },
      "source": [
        "mlp1.save_weights('/content/drive/My Drive/AAIC/CS/mlp1.h5')"
      ],
      "execution_count": null,
      "outputs": []
    },
    {
      "cell_type": "markdown",
      "metadata": {
        "id": "-0OI8M5q6cL_"
      },
      "source": [
        "MLP2\n"
      ]
    },
    {
      "cell_type": "code",
      "metadata": {
        "id": "7Ik5XHaeIlZh",
        "outputId": "ee9788b0-e1b4-4d7c-9ee0-1ef6a8f8f341",
        "colab": {
          "base_uri": "https://localhost:8080/",
          "height": 134
        }
      },
      "source": [
        "def mlp_2(X_train):\n",
        "  tf.keras.backend.clear_session() \n",
        "  model_in = Input(shape=(X_train.shape[1],), dtype='float32', sparse=True)\n",
        "  out = Dense(512, activation='tanh')(model_in)\n",
        "  out = Dropout(0.25)(out)\n",
        "  out = Dense(64, activation='tanh')(out)\n",
        "  out = Dense(1)(out)\n",
        "  model = Model(model_in, out)\n",
        "  return model\n",
        "tf.keras.backend.clear_session() \n",
        "mlp2 = mlp_2(X_train)\n",
        "mlp2.compile(optimizer=tf.keras.optimizers.Adam(lr=0.001),loss='mean_squared_error',metrics='mean_squared_error')\n",
        "for i in range(5):\n",
        "  mlp2.fit(x=X_train,y=y_train,validation_data=(X_test,y_test),batch_size=2**(5+i),epochs=1)\n",
        "\n",
        "y_pred_mlp2 = y_scaler.inverse_transform(mlp2.predict(X_test).reshape(-1, 1))[:, 0]\n",
        "y_pred_train = y_scaler.inverse_transform(mlp2.predict(X_train).reshape(-1, 1))[:, 0]\n",
        "\n",
        "train = y_scaler.inverse_transform(y_train.reshape(-1, 1))[:, 0]\n",
        "test = y_scaler.inverse_transform(y_test.reshape(-1, 1))[:, 0]\n",
        "\n",
        "print('Train error',rmsle_error1(np.expm1(train),np.expm1(y_pred_train)))\n",
        "\n",
        "print('Test error',rmsle_error1(np.expm1(test),np.expm1(y_pred_mlp2)))\n"
      ],
      "execution_count": null,
      "outputs": [
        {
          "output_type": "stream",
          "text": [
            "34727/34727 [==============================] - 258s 7ms/step - loss: 0.4068 - mean_squared_error: 0.4068 - val_loss: 0.3665 - val_mean_squared_error: 0.3665\n",
            "17364/17364 [==============================] - 132s 8ms/step - loss: 0.3185 - mean_squared_error: 0.3185 - val_loss: 0.3482 - val_mean_squared_error: 0.3482\n",
            "8682/8682 [==============================] - 70s 8ms/step - loss: 0.2713 - mean_squared_error: 0.2713 - val_loss: 0.3440 - val_mean_squared_error: 0.3440\n",
            "4341/4341 [==============================] - 39s 9ms/step - loss: 0.2331 - mean_squared_error: 0.2331 - val_loss: 0.3417 - val_mean_squared_error: 0.3417\n",
            "2171/2171 [==============================] - 22s 10ms/step - loss: 0.2033 - mean_squared_error: 0.2033 - val_loss: 0.3434 - val_mean_squared_error: 0.3434\n",
            "Train error 0.3044589797530031\n",
            "Test error 0.43723736586062634\n"
          ],
          "name": "stdout"
        }
      ]
    },
    {
      "cell_type": "code",
      "metadata": {
        "id": "_GNALUgIouGs"
      },
      "source": [
        "mlp2.save_weights('/content/drive/My Drive/AAIC/CS/mlp2.h5')"
      ],
      "execution_count": null,
      "outputs": []
    },
    {
      "cell_type": "code",
      "metadata": {
        "id": "UuBx2jxGmffj"
      },
      "source": [
        "\"\"\"\n",
        "I have purposely trained overfitted models because what I observed is when I used  this models on kaggle's test data\n",
        "i was getting better results.\n",
        "\"\"\""
      ],
      "execution_count": null,
      "outputs": []
    },
    {
      "cell_type": "code",
      "metadata": {
        "id": "hq4A4i-tqX_t",
        "outputId": "ed7ce41f-ac36-4bee-aa71-349cad109a85",
        "colab": {
          "base_uri": "https://localhost:8080/",
          "height": 34
        }
      },
      "source": [
        "#Simple ensmble model\n",
        "new = 0.25*y_pred_lgbm+0.25*y_pred_sgr+0.25*y_pred_mlp1+0.25*y_pred_mlp2\n",
        "\n",
        "print('Test error',rmsle_error1(np.expm1(test),np.expm1(new)))"
      ],
      "execution_count": null,
      "outputs": [
        {
          "output_type": "stream",
          "text": [
            "Test error 0.4272296937645362\n"
          ],
          "name": "stdout"
        }
      ]
    },
    {
      "cell_type": "code",
      "metadata": {
        "id": "4-0Abd28Cc8J"
      },
      "source": [
        "#model summary\n",
        "from beautifultable import BeautifulTable\n",
        "table = BeautifulTable()"
      ],
      "execution_count": null,
      "outputs": []
    },
    {
      "cell_type": "code",
      "metadata": {
        "id": "rx8GlwezVjDY"
      },
      "source": [
        "table.columns.header = [\"Model\", \"Text Vectorization\", \"Test RMSLE Score\"]\n",
        "table.rows.append([\"LGBM Regressor\", \"BOW\", \"0.4412\"])\n",
        "table.rows.append([\"LGBM Regressor\", \"TF-IDF\", \"0.4602\"])\n",
        "table.rows.append([\"SGD Regressor\", \"BOW\", \"0.5251\"])\n",
        "table.rows.append([\"SGD Regressor\", \"TF-IDF\", \"0.5825\"])\n",
        "table.rows.append([\"MLP 1\", \"BOW\", \"0.4124\"])\n",
        "table.rows.append([\"MLP 1\", \"TF-IDF\", \"0.4324\"])\n",
        "table.rows.append([\"MLP 2\", \"BOW\", \"0.4104\"])\n",
        "table.rows.append([\"MLP 2\", \"TF-IDF\", \"0.4380\"])\n",
        "table.rows.append([\"Ensemble 1\", \"BOW\", \"0.4040\"])\n",
        "table.rows.append([\"Ensemble 2\", \"TF-IDF\",\"0.4280\"])"
      ],
      "execution_count": null,
      "outputs": []
    },
    {
      "cell_type": "code",
      "metadata": {
        "id": "M-zftnX2V4xB",
        "outputId": "3c213439-d106-4b6e-ba3f-b8e7ed085219",
        "colab": {
          "base_uri": "https://localhost:8080/",
          "height": 403
        }
      },
      "source": [
        "print(table)"
      ],
      "execution_count": null,
      "outputs": [
        {
          "output_type": "stream",
          "text": [
            "+----------------+--------------------+------------------+\n",
            "|     Model      | Text Vectorization | Test RMSLE Score |\n",
            "+----------------+--------------------+------------------+\n",
            "| LGBM Regressor |        BOW         |      0.441       |\n",
            "+----------------+--------------------+------------------+\n",
            "| LGBM Regressor |       TF-IDF       |       0.46       |\n",
            "+----------------+--------------------+------------------+\n",
            "| SGD Regressor  |        BOW         |      0.525       |\n",
            "+----------------+--------------------+------------------+\n",
            "| SGD Regressor  |       TF-IDF       |      0.583       |\n",
            "+----------------+--------------------+------------------+\n",
            "|     MLP 1      |        BOW         |      0.412       |\n",
            "+----------------+--------------------+------------------+\n",
            "|     MLP 1      |       TF-IDF       |      0.432       |\n",
            "+----------------+--------------------+------------------+\n",
            "|     MLP 2      |        BOW         |       0.41       |\n",
            "+----------------+--------------------+------------------+\n",
            "|     MLP 2      |       TF-IDF       |      0.438       |\n",
            "+----------------+--------------------+------------------+\n",
            "|   Ensemble 1   |        BOW         |      0.404       |\n",
            "+----------------+--------------------+------------------+\n",
            "|   Ensemble 2   |       TF-IDF       |      0.438       |\n",
            "+----------------+--------------------+------------------+\n"
          ],
          "name": "stdout"
        }
      ]
    },
    {
      "cell_type": "code",
      "metadata": {
        "id": "uetJFLOvaoAQ"
      },
      "source": [
        "#My Best kaggle score till now"
      ],
      "execution_count": null,
      "outputs": []
    },
    {
      "cell_type": "markdown",
      "metadata": {
        "id": "Fg6dTxXTaJk-"
      },
      "source": [
        "![image.png](data:image/png;base64,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)"
      ]
    },
    {
      "cell_type": "code",
      "metadata": {
        "id": "njKk7mwcV53d"
      },
      "source": [
        "#My score comes in top 1%"
      ],
      "execution_count": null,
      "outputs": []
    },
    {
      "cell_type": "markdown",
      "metadata": {
        "id": "rRIs3U87bS0Z"
      },
      "source": [
        "![image.png](data:image/png;base64,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)"
      ]
    },
    {
      "cell_type": "markdown",
      "metadata": {
        "id": "ys4Us6cmbk68"
      },
      "source": [
        "Final function"
      ]
    },
    {
      "cell_type": "code",
      "metadata": {
        "id": "q2gNYWqSba5C"
      },
      "source": [
        "\"\"\"\n",
        "This block will go in flask. So we can serve API calls from clients\n",
        "\"\"\"\n",
        "\n",
        "\n",
        "def imputation(data):\n",
        "\n",
        "  \"\"\"\n",
        "  Fill the missing values\n",
        "  \"\"\"\n",
        "  data.category_name.fillna(value = \"other/other/other\", inplace = True)\n",
        "  data.brand_name.fillna(value = \"unknown\", inplace = True)\n",
        "  data.item_description.fillna(value = \"no_description\", inplace = True)\n",
        "  return data\n",
        "# pre-process shipping\n",
        "\n",
        "def pre_shipping(df):\n",
        "  \"\"\"\n",
        "  This function takes df as input and converts shipping column into csr matrix and returns that\n",
        "  i/p= Whole Dataframe\n",
        "  o/p= Shipping coloumn in csr matrix format\n",
        "  o/p shape = (?,1)\n",
        "  \"\"\"\n",
        "  shipping = np.array(df['shipping'])\n",
        "  shipping = shipping.reshape(-1,1)\n",
        "  shipping = csr_matrix(shipping)\n",
        "\n",
        "  return shipping\n",
        "\n",
        "\n",
        "def pre_item_condition_id(df,vectorizer=None,train=True):\n",
        "\n",
        "  \"\"\"\n",
        "  This function is to pre-process item_condition_id column. We apply One hot encoding on item_condition_id column\n",
        "  i/p= whole Dataframe\n",
        "  o/p = OneHotEncoded csr matrix of item_condition_id column\n",
        "  o/p shape = (?,5)\n",
        "  \"\"\"\n",
        "  if train==True:\n",
        "    item_condition = np.array(df['item_condition_id']).reshape(-1,1)\n",
        "    item_condition_vec = OneHotEncoder()\n",
        "    item_condition_vec.fit(item_condition)\n",
        "    item_condition = csr_matrix(item_condition_vec.transform(item_condition))\n",
        "\n",
        "    return item_condition,item_condition_vec\n",
        "  else:\n",
        "    item_condition = np.array(df['item_condition_id']).reshape(-1,1)\n",
        "    item_condition = csr_matrix(vectorizer.transform(item_condition))\n",
        "    return item_condition\n",
        "\n",
        "\n",
        "#pre-process category_name\n",
        "\n",
        "def pre_cat(df,main_cat_vec=None,subcat1_vec=None,subcat2_vec=None,training=True):\n",
        "  \"\"\"\n",
        "  This function does the pre-processing of category_name variable. We first split this variable into 3 parts main category, sub category1 and subcategory 2\n",
        "  One this new 3 columns One Hot encoding is appiled. Then all 3 a combined together and returend as output.\n",
        "  df = Whole datfarme \n",
        "  main_cat_vec = Vectorizer for main category required during test time\n",
        "  subcat1_vec =  Vectorizer for sub category1 required during test time\n",
        "  subcat2_vec =  Vectorizer for sub category2 required during test time\n",
        "  o/p = csr matrix of One hot encodeding of all 3 coloumn\n",
        "  o/p shape = (?,973)\n",
        "  \"\"\"\n",
        "\n",
        "  def pre_cat_name(x):\n",
        "    \"\"\"\n",
        "    This function is used to pre-process the text.\n",
        "    \"\"\"\n",
        "    x = str(x).lower()\n",
        "    x = re.sub('[^A-Za-z0-9]+', ' ', x)\n",
        "    x = re.sub(' +', ' ', x)\n",
        "    x = x.replace(' ','_')\n",
        "    return x\n",
        "\n",
        "  def pre_item_condition_id(df,vectorizer=None,training=True):\n",
        "    \"\"\"\n",
        "    This function returns the onehot encoded featuers.\n",
        "    \"\"\"\n",
        "    if training==True:\n",
        "      item_condition = df\n",
        "      item_condition_vec = CountVectorizer(lowercase=False)\n",
        "      item_condition_vec.fit(item_condition)\n",
        "      item_condition = csr_matrix(item_condition_vec.transform(item_condition))\n",
        "\n",
        "      return item_condition,item_condition_vec\n",
        "    else:\n",
        "      item_condition = df\n",
        "      item_condition = csr_matrix(vectorizer.transform(item_condition))\n",
        "      return item_condition\n",
        "\n",
        "  train = df\n",
        "  train[\"main_cat\"] = train.category_name.str.extract(\"([^/]+)/[^/]+/[^/]+\")\n",
        "  train[\"subcat1\"] = train.category_name.str.extract(\"[^/]+/([^/]+)/[^/]+\")\n",
        "  train[\"subcat2\"] = train.category_name.str.extract(\"[^/]+/[^/]+/([^/]+)\")\n",
        "  train[\"main_cat\"]  = train[\"main_cat\"].apply(pre_cat_name)\n",
        "  train[\"subcat1\"]  = train[\"subcat1\"].apply(pre_cat_name)\n",
        "  train[\"subcat2\"]  = train[\"subcat2\"].apply(pre_cat_name)\n",
        "\n",
        "  if training==True:\n",
        "    main_cat, main_cat_vec  = pre_item_condition_id(train[\"main_cat\"] )\n",
        "    subcat1,subcat1_vec = pre_item_condition_id(train[\"subcat1\"] )\n",
        "    subcat2,subcat2_vec = pre_item_condition_id(train[\"subcat2\"] )\n",
        "    cat = hstack([main_cat,subcat1,subcat2])\n",
        "\n",
        "    return cat,main_cat_vec,subcat1_vec,subcat2_vec\n",
        "  else:\n",
        "    main_cat  = pre_item_condition_id(train[\"main_cat\"],main_cat_vec,training )\n",
        "    subcat1 = pre_item_condition_id(train[\"subcat1\"] ,subcat1_vec,training)\n",
        "    subcat2 = pre_item_condition_id(train[\"subcat2\"] ,subcat2_vec,training)\n",
        "    cat = hstack([main_cat,subcat1,subcat2])\n",
        "\n",
        "    return cat\n",
        "\n",
        "def text_pre(data,tf_idf_vect=None,vec_type=None,training=True):\n",
        "\n",
        "  \"\"\"\n",
        "  This function is to pre-process textual data and return TF-IDF vectorized output. \n",
        "  Here we combine name,barnd name and item description and convert it to single column.\n",
        "  i/p = data with name,barnd name and item description  as input column\n",
        "  o/p = TF-IDF vectorize output\n",
        "  shape = (?,200000)\n",
        "  \"\"\"\n",
        "  stopwords= set(['br', 'the', 'i', 'me', 'my', 'myself', 'we', 'our', 'ours', 'ourselves', 'you', \"you're\", \"you've\",\\\n",
        "          \"you'll\", \"you'd\", 'your', 'yours', 'yourself', 'yourselves', 'he', 'him', 'his', 'himself', \\\n",
        "          'she', \"she's\", 'her', 'hers', 'herself', 'it', \"it's\", 'its', 'itself', 'they', 'them', 'their',\\\n",
        "          'theirs', 'themselves', 'what', 'which', 'who', 'whom', 'this', 'that', \"that'll\", 'these', 'those', \\\n",
        "          'am', 'is', 'are', 'was', 'were', 'be', 'been', 'being', 'have', 'has', 'had', 'having', 'do', 'does', \\\n",
        "          'did', 'doing', 'a', 'an', 'the', 'and', 'but', 'if', 'or', 'because', 'as', 'until', 'while', 'of', \\\n",
        "          'at', 'by', 'for', 'with', 'about', 'against', 'between', 'into', 'through', 'during', 'before', 'after',\\\n",
        "          'above', 'below', 'to', 'from', 'up', 'down', 'in', 'out', 'on', 'off', 'over', 'under', 'again', 'further',\\\n",
        "          'then', 'once', 'here', 'there', 'when', 'where', 'why', 'how', 'all', 'any', 'both', 'each', 'few', 'more',\\\n",
        "          'most', 'other', 'some', 'such', 'only', 'own', 'same', 'so', 'than', 'too', 'very', \\\n",
        "          's', 't', 'can', 'will', 'just', 'don', \"don't\", 'should', \"should've\", 'now', 'd', 'll', 'm', 'o', 're', \\\n",
        "          've', 'y', 'ain', 'aren', \"aren't\", 'couldn', \"couldn't\", 'didn', \"didn't\", 'doesn', \"doesn't\", 'hadn',\\\n",
        "          \"hadn't\", 'hasn', \"hasn't\", 'haven', \"haven't\", 'isn', \"isn't\", 'ma', 'mightn', \"mightn't\", 'mustn',\\\n",
        "          \"mustn't\", 'needn', \"needn't\", 'shan', \"shan't\", 'shouldn', \"shouldn't\", 'wasn', \"wasn't\", 'weren', \"weren't\", \\\n",
        "          'won', \"won't\", 'wouldn', \"wouldn't\"])\n",
        "\n",
        "\n",
        "  #ps = PorterStemmer() #create object of porterstemmer\n",
        "\n",
        "  def decontracted(phrase):\n",
        "    \"\"\"\n",
        "    This function is used for doing basic cleaning of sentences.\n",
        "    i/p = string (sentence)\n",
        "    o/p = string (clean sentence)\n",
        "    \"\"\"\n",
        "\n",
        "    phrase = re.sub(r\"won't\", \"will not\", phrase) # expansion of word won't to will not\n",
        "    phrase = re.sub(r\"can\\'t\", \"can not\", phrase)\n",
        "\n",
        "    phrase =  re.sub(r\"http\\S+\", \"\", phrase)\n",
        "\n",
        "    phrase = re.sub(r\"n\\'t\", \" not\", phrase)\n",
        "    phrase = re.sub(r\"\\'re\", \" are\", phrase)\n",
        "    phrase = re.sub(r\"\\'s\", \" is\", phrase)\n",
        "    phrase = re.sub(r\"\\'d\", \" would\", phrase)\n",
        "    phrase = re.sub(r\"\\'ll\", \" will\", phrase)\n",
        "    phrase = re.sub(r\"\\'t\", \" not\", phrase)\n",
        "    phrase = re.sub(r\"\\'ve\", \" have\", phrase)\n",
        "    phrase = re.sub(r\"\\'m\", \" am\", phrase)\n",
        "    phrase = phrase.replace(':)', 'smiley').replace('(:', 'smiley').replace(':-)', 'smiley') # replace emojis with word smiley\n",
        "\n",
        "    phrase = str(phrase).lower()# convert everything to lower\n",
        "    phrase = re.sub('[^A-Za-z]+', ' ', phrase)# just keep alphabehets remove numbers and other unwanted chars\n",
        "    phrase = re.sub(' +', ' ', phrase)# remove extra spaces\n",
        "\n",
        "    phrase = ' '.join(e for e in phrase.split() if e not in stopwords)#remove stopwords\n",
        "    #phrase = ' '.join(ps.stem(e) for e in phrase.split())#stemming of sentence\n",
        "\n",
        "    return phrase\n",
        "\n",
        "  df = data\n",
        "\n",
        "  df['text'] = df['name'] + \" \" + df['brand_name'] + \" \" + df['item_description']\n",
        "\n",
        "  df['text'] = df['text'].swifter.apply(decontracted)\n",
        "\n",
        "  if training==True:\n",
        "    if vec_type=='BOW':\n",
        "      tf_idf_vect = CountVectorizer(ngram_range=(1,2), min_df=5,max_features=100000,dtype = np.float32)\n",
        "    if vec_type=='tf-idf':\n",
        "      tf_idf_vect = TfidfVectorizer(ngram_range=(1,2), min_df=5,max_features=100000,dtype = np.float32)\n",
        "\n",
        "    tf_idf_vect.fit(df['text'])\n",
        "    final_tf_idf = tf_idf_vect.transform(df['text'])\n",
        "\n",
        "    return final_tf_idf , tf_idf_vect\n",
        "  else:\n",
        "    final_tf_idf = tf_idf_vect.transform(df['text'])\n",
        "  return final_tf_idf\n",
        "\n",
        "def num_feature(df,vectorizer_nums=None,scale=None,training=True):\n",
        "  \"\"\"\n",
        "  After some EDA and manually reviewing textual data I found out that there was lot of numerical information avaliable in text eg. 10ml , 2 packs, 10 lipsticks 512gb.\n",
        "  This numerical data had impact on the price of item. So this a function does numerical vectorization of this data.So we first find patterns like (10ml,160gb 2 packs..etc)\n",
        "  So now we have sentence \"250ml 2 packs of xyz company\" so here in \"ml\" column we had \"250\" and in packs column we add \"2\".At the end a sparse matrix is given out as output \n",
        "  \"\"\"\n",
        "\n",
        "\n",
        "  def get_featuers(phrase):\n",
        "    \"\"\"\n",
        "    this function finds all possible numercial patterns in training data and accordingly updates the dictionary.\n",
        "    \"\"\"\n",
        "    phrase = str(phrase).lower()\n",
        "    phrase = re.sub('[^A-Za-z0-9]+', ' ', phrase)\n",
        "    phrase = re.sub(' +', ' ', phrase)\n",
        "\n",
        "    nums = re.findall('[0-9]+.[A-Za-z]+',phrase)\n",
        "\n",
        "    if len(nums)>0:\n",
        "      for i in nums:\n",
        "        a =  ''.join(re.findall('[A-Za-z]+',i))\n",
        "        dic[a] = 0\n",
        "    else:\n",
        "      dic['no_data']=0\n",
        "\n",
        "    return None\n",
        "\n",
        "  def number(phrase): \n",
        "    \"\"\"\n",
        "    Finds all patterns and returns dictionary. eg {\"ml\":10,\"gb\":512},{\"key(pattern)\":\"value(quantity)\"}\n",
        "    \"\"\"\n",
        "    send = dict()\n",
        "    phrase = str(phrase).lower()\n",
        "    phrase = re.sub('[^A-Za-z0-9]+', ' ', phrase)\n",
        "    phrase = re.sub(' +', ' ', phrase)\n",
        "\n",
        "    nums = re.findall('[0-9]+.[A-Za-z]+',phrase)\n",
        "\n",
        "    if len(nums)>0:\n",
        "      for z in nums:\n",
        "        a =  ''.join(re.findall('[A-Za-z]+',z))\n",
        "        b =  ''.join(re.findall(r'\\d+',z))\n",
        "        b = int(b)\n",
        "        send[a] = b\n",
        "    else:\n",
        "      send['no_data']=1\n",
        "\n",
        "    return send\n",
        "\n",
        "  def get_matrix(temp,dic):\n",
        "    \"\"\"\n",
        "    This function is used to generate a csr matrix for numrecial vectorization\n",
        "    \"\"\"\n",
        "    row_ind = []\n",
        "    col_ind = []\n",
        "    data = []\n",
        "    row=0\n",
        "    for i in temp:\n",
        "      for z in i:\n",
        "        if z in dic:\n",
        "          col = dic[z]\n",
        "          data_temp = i[z]\n",
        "          row_ind.append(int(row))\n",
        "          col_ind.append(int(col))\n",
        "          data.append(int(data_temp))\n",
        "      row+=1\n",
        "\n",
        "    row_ind = np.array(row_ind,dtype=int)\n",
        "\n",
        "    col_ind = np.array(col_ind,dtype=int)\n",
        "\n",
        "    data = np.array(data,dtype=float)      \n",
        "\n",
        "    matrix = csr_matrix((data, (row_ind, col_ind)), shape=(df.shape[0],len(dic)))\n",
        "\n",
        "    return matrix\n",
        "\n",
        "\n",
        "  if training==True:\n",
        "    dic = dict()\n",
        "    df['text'] = df['name'] + \" \" + df['item_description']\n",
        "    df['text'].swifter.apply(get_featuers)\n",
        "    c=0\n",
        "    for i in dic:\n",
        "      dic[i] = c\n",
        "      c+=1\n",
        "\n",
        "    temp = df['text'].apply(number)\n",
        "\n",
        "    matrix = get_matrix(temp,dic)\n",
        "\n",
        "    scaler = MaxAbsScaler(copy=False)\n",
        "    scaler.fit(matrix)\n",
        "    matrix = scaler.transform(matrix)\n",
        "\n",
        "    return matrix,dic,scaler\n",
        "\n",
        "  else:\n",
        "    df['text'] = df['name'] + \" \" + df['item_description']\n",
        "    temp = df['text'].swifter.apply(number)\n",
        "\n",
        "    matrix = get_matrix(temp,vectorizer_nums)\n",
        "\n",
        "    matrix = scale.transform(matrix)\n",
        "\n",
        "    return matrix\n",
        "\n",
        "\n",
        "\n",
        "def mlp_1():\n",
        "  tf.keras.backend.clear_session() \n",
        "\n",
        "  model_in = Input(shape=(128160,), dtype='float32', sparse=True)\n",
        "\n",
        "  out = Dense(256, activation='tanh')(model_in)\n",
        "  out = Dropout(0.25)(out)\n",
        "  out = Dense(124, activation='tanh')(out)\n",
        "  out = Dense(64, activation='tanh')(out)\n",
        "  out = Dense(64, activation='tanh')(out)\n",
        "  out = Dense(32, activation='tanh')(out)\n",
        "  model_out = Dense(1)(out)\n",
        "  model = Model(model_in, model_out)\n",
        "  return model\n",
        "\n",
        "def mlp_2():\n",
        "  tf.keras.backend.clear_session() \n",
        "  model_in = Input(shape=(128160,), dtype='float32', sparse=True)\n",
        "  out = Dense(512, activation='tanh')(model_in)\n",
        "  out = Dropout(0.25)(out)\n",
        "  out = Dense(64, activation='tanh')(out)\n",
        "  out = Dense(1)(out)\n",
        "  model = Model(model_in, out)\n",
        "  return model\n",
        "\n",
        "\n",
        "\n",
        "pkl_filename = '/content/drive/My Drive/AAIC/CS/item_condition_vec.pkl'\n",
        "with open(pkl_filename, 'rb') as file:\n",
        "    item_condition_vec = pickle.load(file)\n",
        "\n",
        "pkl_filename = '/content/drive/My Drive/AAIC/CS/main_cat_vec.pkl'\n",
        "\n",
        "with open(pkl_filename, 'rb') as file:\n",
        "    main_cat_vec = pickle.load(file)\n",
        "\n",
        "pkl_filename = '/content/drive/My Drive/AAIC/CS/subcat1_vec.pkl'\n",
        "\n",
        "with open(pkl_filename, 'rb') as file:\n",
        "    subcat1_vec = pickle.load(file)\n",
        "\n",
        "pkl_filename = '/content/drive/My Drive/AAIC/CS/subcat2_vec.pkl'\n",
        "\n",
        "\n",
        "with open(pkl_filename, 'rb') as file:\n",
        "    subcat2_vec = pickle.load(file)\n",
        "\n",
        "pkl_filename = '/content/drive/My Drive/AAIC/CS/vec_text_tfidf.pkl'\n",
        "\n",
        "with open(pkl_filename, 'rb') as file:\n",
        "    vectorizer_text = pickle.load(file)\n",
        "\n",
        "\n",
        "pkl_filename = '/content/drive/My Drive/AAIC/CS/vectorizer_nums.pkl'\n",
        "\n",
        "\n",
        "with open(pkl_filename, 'rb') as file:\n",
        "    vectorizer_nums = pickle.load(file)\n",
        "\n",
        "\n",
        "pkl_filename = '/content/drive/My Drive/AAIC/CS/scaler_num.pkl'\n",
        "\n",
        "\n",
        "with open(pkl_filename, 'rb') as file:\n",
        "    scaler_num = pickle.load(file)\n",
        "\n",
        "pkl_filename = '/content/drive/My Drive/AAIC/CS/lgbm_model.pkl'\n",
        "\n",
        "\n",
        "with open(pkl_filename, 'rb') as file:\n",
        "    lgbm = pickle.load(file)\n",
        "\n",
        "pkl_filename = '/content/drive/My Drive/AAIC/CS/sgr_model.pkl'\n",
        "\n",
        "\n",
        "with open(pkl_filename, 'rb') as file:\n",
        "    sgr = pickle.load(file)\n",
        "\n",
        "pkl_filename = '/content/drive/My Drive/AAIC/CS/y_scaler.pkl'\n",
        "with open(pkl_filename, 'rb') as file:\n",
        "    y_scaler = pickle.load(file)\n",
        "\n",
        "mlp1 = mlp_1()\n",
        "mlp1.load_weights('/content/drive/My Drive/AAIC/CS/mlp1.h5')\n",
        "\n",
        "\n",
        "mlp2 = mlp_2()\n",
        "mlp2.load_weights('/content/drive/My Drive/AAIC/CS/mlp2.h5')\n",
        "\n",
        "\n",
        "\n",
        "\n",
        "def predict(data):\n",
        "\n",
        "\n",
        "  X_test = pd.DataFrame(data,index=[0])\n",
        "  X_test = imputation(X_test)\n",
        "\n",
        "  X_test_shipping =  pre_shipping(X_test)\n",
        "\n",
        "  X_test_item_condition = pre_item_condition_id(X_test,item_condition_vec,train=False)\n",
        "\n",
        "\n",
        "  X_test_cat = pre_cat(X_test,main_cat_vec,subcat1_vec,subcat2_vec,training=False)\n",
        "\n",
        "\n",
        "  X_test_text = text_pre(X_test,vectorizer_text,training=False)\n",
        "\n",
        "\n",
        "\n",
        "  X_test_num = num_feature(X_test,vectorizer_nums,scaler_num,training=False)\n",
        "\n",
        "\n",
        "  X_test = hstack([X_test_shipping,X_test_item_condition,X_test_cat,X_test_text,X_test_num]).tocsr().astype('float32')\n",
        "\n",
        "  y_lgbm = lgbm.predict(X_test)\n",
        "  y_sgr = sgr.predict(X_test)\n",
        "  y_mlp1 = mlp1.predict(X_test)\n",
        "  y_mlp2 = mlp2.predict(X_test)\n",
        "\n",
        "  y_final = (y_lgbm + y_sgr + y_mlp1 +y_mlp2)/4\n",
        "  send = np.expm1(y_scaler.inverse_transform(y_final.reshape(-1, 1))[:, 0])\n",
        "\n",
        "  return send"
      ],
      "execution_count": null,
      "outputs": []
    },
    {
      "cell_type": "code",
      "metadata": {
        "id": "ANdVoEzxyeL7"
      },
      "source": [
        "i = 14\n",
        "input = {\"name\":df.name[i],\n",
        "     \"item_condition_id\":df.item_condition_id[i],\n",
        "     \"category_name\":df.category_name[i],\n",
        "     \"brand_name\":df.brand_name[i],\n",
        "     \"shipping\":df.shipping[i],\n",
        "     \"item_description\":df.item_description[i]}"
      ],
      "execution_count": null,
      "outputs": []
    },
    {
      "cell_type": "code",
      "metadata": {
        "id": "7wtyHlli1O9a",
        "outputId": "ee6ad49b-0ecf-43df-b4d7-50e75894812d",
        "colab": {
          "base_uri": "https://localhost:8080/",
          "height": 138
        }
      },
      "source": [
        "print('name:',input['name'])\n",
        "print('item_condition_id:',input['item_condition_id'])\n",
        "print('category_name:',input['category_name'])\n",
        "print('brand_name:',input['brand_name'])\n",
        "print('shipping:',input['shipping'])\n",
        "print('item_description:',input['item_description'])"
      ],
      "execution_count": null,
      "outputs": [
        {
          "output_type": "stream",
          "text": [
            "name: HOLD for Dogs2016 Minnetonka boots\n",
            "item_condition_id: 3\n",
            "category_name: Women/Shoes/Boots\n",
            "brand_name: UGG Australia\n",
            "shipping: 0\n",
            "item_description: Authentic. Suede fringe boots. Great condition! Size 7. If you are between the sizes 5.5-7 and love wearing thick socks during the winter they'd be perfect for you as well (I did last winter) :)\n"
          ],
          "name": "stdout"
        }
      ]
    },
    {
      "cell_type": "code",
      "metadata": {
        "id": "GT_xwiI2xRds",
        "outputId": "d42f9ed0-3753-40b1-cc02-ad8a98a47cab",
        "colab": {
          "base_uri": "https://localhost:8080/",
          "height": 114,
          "referenced_widgets": [
            "ff1dce562f02499e9c50d3c210340b4f",
            "df2d605c745442049d36f47b2dd9de9f",
            "01eb4c66f03d437caa7b779f71cd43c6",
            "1cdbba7595e74a8785008864097b5cd7",
            "398feafdc3fa45f588e31d152716103f",
            "24c8b33f3d1e475a8db50927b80025dc",
            "810d482d4a0449baae887addd6805b6e",
            "6fcaa5961f984986ba6c7c22fde100ce",
            "c3a1144aff21427bb2dbf3d5ee9e46e1",
            "384d4d1a8da049e494e293b785f3477b",
            "8d14cd80187743899ca49a848bdea22c",
            "8f215abfae494c57b4d207002714615b",
            "b20b5907709d4dc283f32f7f1fbe6905",
            "fcf10a52d78c430bb3d9a978d6a51865",
            "f6edf2bb266045849403123a5f29d2b2",
            "5d616cec01664a97b4481fec1138b2d5"
          ]
        }
      },
      "source": [
        "\n",
        "ans = predict(input)"
      ],
      "execution_count": null,
      "outputs": [
        {
          "output_type": "display_data",
          "data": {
            "application/vnd.jupyter.widget-view+json": {
              "model_id": "ff1dce562f02499e9c50d3c210340b4f",
              "version_minor": 0,
              "version_major": 2
            },
            "text/plain": [
              "HBox(children=(FloatProgress(value=0.0, description='Pandas Apply', max=1.0, style=ProgressStyle(description_w…"
            ]
          },
          "metadata": {
            "tags": []
          }
        },
        {
          "output_type": "stream",
          "text": [
            "\n"
          ],
          "name": "stdout"
        },
        {
          "output_type": "display_data",
          "data": {
            "application/vnd.jupyter.widget-view+json": {
              "model_id": "c3a1144aff21427bb2dbf3d5ee9e46e1",
              "version_minor": 0,
              "version_major": 2
            },
            "text/plain": [
              "HBox(children=(FloatProgress(value=0.0, description='Pandas Apply', max=1.0, style=ProgressStyle(description_w…"
            ]
          },
          "metadata": {
            "tags": []
          }
        },
        {
          "output_type": "stream",
          "text": [
            "\n"
          ],
          "name": "stdout"
        }
      ]
    },
    {
      "cell_type": "code",
      "metadata": {
        "id": "t7b13oHYxYBr",
        "outputId": "9582c7b1-ffc5-4ee8-eee6-742b691a3e65",
        "colab": {
          "base_uri": "https://localhost:8080/",
          "height": 50
        }
      },
      "source": [
        "print('Original price is ',df.price[i])\n",
        "print('Predicted price is ',round(ans[0],2))"
      ],
      "execution_count": null,
      "outputs": [
        {
          "output_type": "stream",
          "text": [
            "Original price is  43.0\n",
            "Predicted price is  55.27\n"
          ],
          "name": "stdout"
        }
      ]
    },
    {
      "cell_type": "code",
      "metadata": {
        "id": "QCgC9-_3zBwv"
      },
      "source": [
        "\"\"\"\n",
        "If we sample some random points we can see that prices are close to original price.So we can say that we have a \n",
        "good first cut model.\n",
        "\"\"\""
      ],
      "execution_count": null,
      "outputs": []
    }
  ]
}